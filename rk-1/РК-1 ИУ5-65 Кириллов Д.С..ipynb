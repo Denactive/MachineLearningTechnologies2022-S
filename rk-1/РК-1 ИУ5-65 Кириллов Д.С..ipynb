{
 "cells": [
  {
   "cell_type": "markdown",
   "metadata": {},
   "source": [
    "# Рубежный контроль 1\n",
    "+ Исполнитель: студент группы **ИУ5-65 Кириллов Денис**.\n",
    "+ Вариант: **8**.\n",
    "\n",
    "    <table>\n",
    "    <tr>\n",
    "    <td>Номер варианта</td>\n",
    "    <td>Номер задачи</td>\n",
    "    <td>Номер набора данных, указанного в задаче</td>\n",
    "    </tr>\n",
    "    <tr>\n",
    "    <td>8</td>\n",
    "    <td>1</td>\n",
    "    <td>8</td>\n",
    "    </tr>\n",
    "    </table>\n",
    "\n",
    "\n",
    "+ Дополнительное требование для группы **ИУ5-65**:\n",
    "\n",
    "    Для студентов группы ИУ5-65Б - для набора данных **построить \"парные диаграммы\"**.\n",
    "\n",
    "# Задача-1.\n",
    "\n",
    "Для [заданного набора данных](https://www.kaggle.com/datasets/lava18/google-play-store-apps) проведите корреляционный анализ. В случае наличия пропусков в данных удалите строки или колонки, содержащие пропуски. Сделайте выводы о возможности построения моделей машинного обучения и о возможном вкладе признаков в модель."
   ]
  },
  {
   "cell_type": "code",
   "execution_count": 263,
   "metadata": {},
   "outputs": [],
   "source": [
    "import re\n",
    "\n",
    "import numpy as np\n",
    "import pandas as pd\n",
    "import seaborn as sns\n",
    "import matplotlib.pyplot as plt\n",
    "\n",
    "from sklearn.impute import SimpleImputer\n",
    "from sklearn.preprocessing import LabelEncoder"
   ]
  },
  {
   "cell_type": "code",
   "execution_count": 264,
   "metadata": {},
   "outputs": [
    {
     "name": "stdout",
     "output_type": "stream",
     "text": [
      "размер: (10841, 13)\n",
      "\n",
      "колонки:\n",
      " App                object\n",
      "Category           object\n",
      "Rating            float64\n",
      "Reviews            object\n",
      "Size               object\n",
      "Installs           object\n",
      "Type               object\n",
      "Price              object\n",
      "Content Rating     object\n",
      "Genres             object\n",
      "Last Updated       object\n",
      "Current Ver        object\n",
      "Android Ver        object\n",
      "dtype: object\n"
     ]
    },
    {
     "data": {
      "text/html": [
       "<div>\n",
       "<style scoped>\n",
       "    .dataframe tbody tr th:only-of-type {\n",
       "        vertical-align: middle;\n",
       "    }\n",
       "\n",
       "    .dataframe tbody tr th {\n",
       "        vertical-align: top;\n",
       "    }\n",
       "\n",
       "    .dataframe thead th {\n",
       "        text-align: right;\n",
       "    }\n",
       "</style>\n",
       "<table border=\"1\" class=\"dataframe\">\n",
       "  <thead>\n",
       "    <tr style=\"text-align: right;\">\n",
       "      <th></th>\n",
       "      <th>App</th>\n",
       "      <th>Category</th>\n",
       "      <th>Rating</th>\n",
       "      <th>Reviews</th>\n",
       "      <th>Size</th>\n",
       "      <th>Installs</th>\n",
       "      <th>Type</th>\n",
       "      <th>Price</th>\n",
       "      <th>Content Rating</th>\n",
       "      <th>Genres</th>\n",
       "      <th>Last Updated</th>\n",
       "      <th>Current Ver</th>\n",
       "      <th>Android Ver</th>\n",
       "    </tr>\n",
       "  </thead>\n",
       "  <tbody>\n",
       "    <tr>\n",
       "      <th>0</th>\n",
       "      <td>Photo Editor &amp; Candy Camera &amp; Grid &amp; ScrapBook</td>\n",
       "      <td>ART_AND_DESIGN</td>\n",
       "      <td>4.1</td>\n",
       "      <td>159</td>\n",
       "      <td>19M</td>\n",
       "      <td>10,000+</td>\n",
       "      <td>Free</td>\n",
       "      <td>0</td>\n",
       "      <td>Everyone</td>\n",
       "      <td>Art &amp; Design</td>\n",
       "      <td>January 7, 2018</td>\n",
       "      <td>1.0.0</td>\n",
       "      <td>4.0.3 and up</td>\n",
       "    </tr>\n",
       "    <tr>\n",
       "      <th>1</th>\n",
       "      <td>Coloring book moana</td>\n",
       "      <td>ART_AND_DESIGN</td>\n",
       "      <td>3.9</td>\n",
       "      <td>967</td>\n",
       "      <td>14M</td>\n",
       "      <td>500,000+</td>\n",
       "      <td>Free</td>\n",
       "      <td>0</td>\n",
       "      <td>Everyone</td>\n",
       "      <td>Art &amp; Design;Pretend Play</td>\n",
       "      <td>January 15, 2018</td>\n",
       "      <td>2.0.0</td>\n",
       "      <td>4.0.3 and up</td>\n",
       "    </tr>\n",
       "    <tr>\n",
       "      <th>2</th>\n",
       "      <td>U Launcher Lite – FREE Live Cool Themes, Hide ...</td>\n",
       "      <td>ART_AND_DESIGN</td>\n",
       "      <td>4.7</td>\n",
       "      <td>87510</td>\n",
       "      <td>8.7M</td>\n",
       "      <td>5,000,000+</td>\n",
       "      <td>Free</td>\n",
       "      <td>0</td>\n",
       "      <td>Everyone</td>\n",
       "      <td>Art &amp; Design</td>\n",
       "      <td>August 1, 2018</td>\n",
       "      <td>1.2.4</td>\n",
       "      <td>4.0.3 and up</td>\n",
       "    </tr>\n",
       "    <tr>\n",
       "      <th>3</th>\n",
       "      <td>Sketch - Draw &amp; Paint</td>\n",
       "      <td>ART_AND_DESIGN</td>\n",
       "      <td>4.5</td>\n",
       "      <td>215644</td>\n",
       "      <td>25M</td>\n",
       "      <td>50,000,000+</td>\n",
       "      <td>Free</td>\n",
       "      <td>0</td>\n",
       "      <td>Teen</td>\n",
       "      <td>Art &amp; Design</td>\n",
       "      <td>June 8, 2018</td>\n",
       "      <td>Varies with device</td>\n",
       "      <td>4.2 and up</td>\n",
       "    </tr>\n",
       "    <tr>\n",
       "      <th>4</th>\n",
       "      <td>Pixel Draw - Number Art Coloring Book</td>\n",
       "      <td>ART_AND_DESIGN</td>\n",
       "      <td>4.3</td>\n",
       "      <td>967</td>\n",
       "      <td>2.8M</td>\n",
       "      <td>100,000+</td>\n",
       "      <td>Free</td>\n",
       "      <td>0</td>\n",
       "      <td>Everyone</td>\n",
       "      <td>Art &amp; Design;Creativity</td>\n",
       "      <td>June 20, 2018</td>\n",
       "      <td>1.1</td>\n",
       "      <td>4.4 and up</td>\n",
       "    </tr>\n",
       "  </tbody>\n",
       "</table>\n",
       "</div>"
      ],
      "text/plain": [
       "                                                 App        Category  Rating  \\\n",
       "0     Photo Editor & Candy Camera & Grid & ScrapBook  ART_AND_DESIGN     4.1   \n",
       "1                                Coloring book moana  ART_AND_DESIGN     3.9   \n",
       "2  U Launcher Lite – FREE Live Cool Themes, Hide ...  ART_AND_DESIGN     4.7   \n",
       "3                              Sketch - Draw & Paint  ART_AND_DESIGN     4.5   \n",
       "4              Pixel Draw - Number Art Coloring Book  ART_AND_DESIGN     4.3   \n",
       "\n",
       "  Reviews  Size     Installs  Type Price Content Rating  \\\n",
       "0     159   19M      10,000+  Free     0       Everyone   \n",
       "1     967   14M     500,000+  Free     0       Everyone   \n",
       "2   87510  8.7M   5,000,000+  Free     0       Everyone   \n",
       "3  215644   25M  50,000,000+  Free     0           Teen   \n",
       "4     967  2.8M     100,000+  Free     0       Everyone   \n",
       "\n",
       "                      Genres      Last Updated         Current Ver  \\\n",
       "0               Art & Design   January 7, 2018               1.0.0   \n",
       "1  Art & Design;Pretend Play  January 15, 2018               2.0.0   \n",
       "2               Art & Design    August 1, 2018               1.2.4   \n",
       "3               Art & Design      June 8, 2018  Varies with device   \n",
       "4    Art & Design;Creativity     June 20, 2018                 1.1   \n",
       "\n",
       "    Android Ver  \n",
       "0  4.0.3 and up  \n",
       "1  4.0.3 and up  \n",
       "2  4.0.3 and up  \n",
       "3    4.2 and up  \n",
       "4    4.4 and up  "
      ]
     },
     "execution_count": 264,
     "metadata": {},
     "output_type": "execute_result"
    }
   ],
   "source": [
    "%matplotlib inline \n",
    "sns.set(style=\"ticks\")\n",
    "\n",
    "# Открою датасет\n",
    "data = pd.read_csv('./googleplaystore.csv', sep=\",\")\n",
    "# характеристики\n",
    "print(\"размер:\", data.shape)\n",
    "print(\"\\nколонки:\\n\", data.dtypes)\n",
    "data.head()"
   ]
  },
  {
   "cell_type": "markdown",
   "metadata": {},
   "source": [
    "## Восстановление пропусков\n",
    "Проверю на пропуски"
   ]
  },
  {
   "cell_type": "code",
   "execution_count": 265,
   "metadata": {},
   "outputs": [
    {
     "name": "stdout",
     "output_type": "stream",
     "text": [
      "\n",
      "Пропущенные значения, %:\n",
      "Rating                       1474        13.597%\tfloat64\n",
      "Type                          1           0.009%\tobject\n",
      "Content Rating                1           0.009%\tobject\n",
      "Current Ver                   8           0.074%\tobject\n",
      "Android Ver                   3           0.028%\tobject\n"
     ]
    }
   ],
   "source": [
    "print(\"\\nПропущенные значения, %:\")\n",
    "for index, value in data.isnull().sum().get(lambda x: x > 0).items():\n",
    "  print(\"{:25s} {: ^10} {:>10.3f}%\\t{:s}\".format(index, value, value*100/data.shape[0], str(data[index].dtype)))"
   ]
  },
  {
   "cell_type": "markdown",
   "metadata": {},
   "source": [
    "Rating подделывать нет смысла. Удалю те строки, где он не указан, но оценка может быть нулем. Нужно удалить только Not A Number:"
   ]
  },
  {
   "cell_type": "code",
   "execution_count": 266,
   "metadata": {},
   "outputs": [
    {
     "name": "stdout",
     "output_type": "stream",
     "text": [
      "\n",
      "Пропущенные значения в колонке Rating, %:\n",
      "Rating                       1474        13.597%\n"
     ]
    }
   ],
   "source": [
    "print(\"\\nПропущенные значения в колонке Rating, %:\")\n",
    "missing_rating_values_cnt = data['Rating'].isna().sum()\n",
    "print(\"{:25s} {: ^10} {:>10.3f}%\".format('Rating', missing_rating_values_cnt, missing_rating_values_cnt*100/data['Rating'].shape[0]))"
   ]
  },
  {
   "cell_type": "code",
   "execution_count": 267,
   "metadata": {},
   "outputs": [
    {
     "name": "stdout",
     "output_type": "stream",
     "text": [
      "\n",
      "Пропущенные значения, %:\n",
      "Content Rating                1           0.011%\tobject\n",
      "Current Ver                   4           0.043%\tobject\n",
      "Android Ver                   3           0.032%\tobject\n"
     ]
    }
   ],
   "source": [
    "data = data.dropna(subset='Rating', axis=0)\n",
    "# проверяю, а остались ли еще пропуски в других колонках после удаления строк\n",
    "print(\"\\nПропущенные значения, %:\")\n",
    "for index, value in data.isnull().sum().get(lambda x: x > 0).items():\n",
    "  print(\"{:25s} {: ^10} {:>10.3f}%\\t{:s}\".format(index, value, value*100/data.shape[0], str(data[index].dtype)))"
   ]
  },
  {
   "cell_type": "markdown",
   "metadata": {},
   "source": [
    "Задача значительно упростилась. Буду считать, что если версия не указана, значит, это версия 0.0.1. Заполню константой. Таких значений всего 0,043%, и гистограмма значительно не изменится."
   ]
  },
  {
   "cell_type": "code",
   "execution_count": 268,
   "metadata": {},
   "outputs": [
    {
     "name": "stdout",
     "output_type": "stream",
     "text": [
      "0\n",
      "['1.0.0' '2.0.0' '1.2.4' ... '1.5.447' '1.0.612928' '0.3.4'] 2639\n"
     ]
    }
   ],
   "source": [
    "num_score_imptr = SimpleImputer(missing_values=np.nan, strategy='constant', fill_value='0.0.1')\n",
    "data[\"Current Ver\"] = num_score_imptr.fit_transform(data[[\"Current Ver\"]])\n",
    "print(data['Current Ver'].isnull().sum())\n",
    "print(data['Current Ver'].unique(), data['Current Ver'].unique().shape[0])"
   ]
  },
  {
   "cell_type": "markdown",
   "metadata": {},
   "source": [
    "## Изменение типа\n",
    "Видно, что все признаки кроме rating распознались как категориальные, что нужно исправить согласно анализу ниже:\n",
    "\n",
    "### числовые\n",
    "+ Reviews - это точно число.\n",
    "+ Size - как строка не удобен для анализа. Скорее всего, много уникальных значений. Нужно перевести буквы К, М, G в множители.\n",
    "+ Price - точно число. Стереть символ доллара, представить как float.\n",
    "+ Last Updated - это дата. Удобно представлять числом единиц времени с начала эпохи (дней, часов, микросекунд).\n",
    "+ Current Ver - число из трех цифр, кроме строки \"Varies with device\", которую можно представить специальным значением -1.\n",
    "\n",
    "### категориальные\n",
    "+ Category, Installs, Content Rating, Genres, Android Ver - точно категориальные\n",
    "+ Type - бинарная классификация\n",
    "+ App - перекодировать бессмысленно: слишком велико число уникальных: 9660 из 10841."
   ]
  },
  {
   "cell_type": "markdown",
   "metadata": {},
   "source": [
    "### Изменение типа: кодирование категориальных признаков числами."
   ]
  },
  {
   "cell_type": "code",
   "execution_count": 269,
   "metadata": {},
   "outputs": [],
   "source": [
    "cat_cols_list = ['Category', 'Installs', 'Content Rating', 'Genres', 'Android Ver', 'Type']"
   ]
  },
  {
   "cell_type": "markdown",
   "metadata": {},
   "source": [
    "Трансформирую те признаки, которые я точно признаю категориальными в числовые с помощью label encoder "
   ]
  },
  {
   "cell_type": "code",
   "execution_count": 270,
   "metadata": {},
   "outputs": [
    {
     "name": "stdout",
     "output_type": "stream",
     "text": [
      "9367 >> 34 ? -> True\n",
      "9367 >> 20 ? -> True\n",
      "9367 >> 7 ? -> True\n",
      "9367 >> 116 ? -> True\n",
      "9367 >> 32 ? -> True\n",
      "9367 >> 3 ? -> True\n",
      "Category          int32\n",
      "Installs          int32\n",
      "Content Rating    int32\n",
      "Genres            int32\n",
      "Android Ver       int32\n",
      "Type              int32\n",
      "dtype: object\n"
     ]
    }
   ],
   "source": [
    "# сохраню возможность декодирования сюда\n",
    "cat_names_decoding_map = dict()\n",
    "\n",
    "for cat in cat_cols_list:\n",
    "  print(data[cat].shape[0], '>>', data[cat].unique().shape[0], '? ->', data[cat].shape[0] > data[cat].unique().shape[0])\n",
    "  le = LabelEncoder()\n",
    "  lables = le.fit_transform(data[cat])\n",
    "  data[cat] = le.transform(data[cat])\n",
    "  cat_names_decoding_map[cat] = {\n",
    "    'encoder': le,\n",
    "    'lables': lables,\n",
    "  }\n",
    "\n",
    "print(data[cat_cols_list].dtypes)"
   ]
  },
  {
   "cell_type": "markdown",
   "metadata": {},
   "source": [
    "### Изменение типа: приведение псевдокатегориаьных признаков к числовому формату."
   ]
  },
  {
   "cell_type": "markdown",
   "metadata": {},
   "source": [
    "Эсперимантальным путем (страданий) было выяснено следующее: \n",
    "\n",
    "В Size встречаются записи вида:\n",
    "+ 619k\n",
    "+ 0M\n",
    "+ 0G\n",
    "+ 1.7M\n",
    "\n",
    "В Price встречаются записи вида:\n",
    "+ $0.0\n",
    "+ 0\n",
    "+ \"Everything\"\n",
    "\n",
    "В Cur Ver:\n",
    "+ 1.9.1\n",
    "+ 1.7\n",
    "+ 2.20 Build 02\n",
    "+ 1.6.798986\n",
    "+ Public.Heal\n",
    "+ 3.0.1.11 (Build 311)\n",
    "+ \"Varies with device\"\n",
    "\n",
    "В Reviews:\n",
    "+ 100\n",
    "+ 1.0M"
   ]
  },
  {
   "cell_type": "code",
   "execution_count": 271,
   "metadata": {},
   "outputs": [],
   "source": [
    "err_print = False\n",
    "\n",
    "\n",
    "size_literal_map = {\n",
    "  'K': 1,\n",
    "  'M': 1000,\n",
    "  'G': 1000000,\n",
    "  'k': 1,\n",
    "  'm': 1000,\n",
    "  'g': 1000000,\n",
    "}\n",
    "\n",
    "def size_transformer_worker(el):\n",
    "  if not re.match(r'^\\d+(\\.\\d+)?[M|G|K|m|g|k]$', el) or el == \"Varies with device\":\n",
    "    if err_print: print('error on', el)\n",
    "    return -1\n",
    "  num = re.search(r'^\\d+(\\.\\d+)?', el)\n",
    "  letter = re.search(r'[M|G|K|g|m|k]$', el)\n",
    "  return float(num.group(0)) * size_literal_map[letter.group(0)]\n",
    "\n",
    "def size_transformer(arr):\n",
    "  return pd.to_numeric([size_transformer_worker(el) for el in arr])\n",
    "    \n",
    "def price_transformer_worker(el):\n",
    "  if el == '0':\n",
    "    return 0\n",
    "  if not re.match(r'^\\$\\d+(\\.\\d+)?$', el):\n",
    "    if err_print: print('error on', el)\n",
    "    return -1\n",
    "  return el.replace('$', '')\n",
    "\n",
    "def price_transformer(arr):\n",
    "  return pd.to_numeric([price_transformer_worker(el) for el in arr])\n",
    "    \n",
    "# декодировать все это - сущее мучение. С датой хуже всего\n",
    "def updated_transformer(arr):\n",
    "  print()\n",
    "\n",
    "def version_transformer_worker(el):\n",
    "  if el == 'Varies with device':\n",
    "    return -1\n",
    "  z =  re.split(r'\\D+', el)\n",
    "  for i, ch in enumerate(z):\n",
    "    if ch == '':\n",
    "      z[i] = 0\n",
    "    else:\n",
    "      z[i] = int(ch) \n",
    "  if len(z) == 0:\n",
    "    if err_print: print('error on', el)\n",
    "    return 1\n",
    "  if len(z) == 1:\n",
    "    return float(z[0])\n",
    "  if len(z) == 2:\n",
    "    return z[0] + z[1] / 100\n",
    "    \n",
    "  return z[0] * 10 + z[1] + z[2] / 100\n",
    "  # return float(\"\".join(z[:len(z)-1]).join(('.', z[len(z)-1])))\n",
    "\n",
    "def version_transformer(arr):\n",
    "  return pd.to_numeric([version_transformer_worker(el) for el in arr])\n",
    "\n",
    "pseudo_categorial_dict = [\n",
    "  ('Size', size_transformer),\n",
    "  ('Price', price_transformer),\n",
    "  ('Last Updated', updated_transformer),\n",
    "  ('Current Ver', version_transformer),\n",
    "  ('Reviews', size_transformer) # lambda x: pd.to_numeric(x))  # не подошел (\n",
    "]\n"
   ]
  },
  {
   "cell_type": "code",
   "execution_count": 272,
   "metadata": {},
   "outputs": [
    {
     "name": "stdout",
     "output_type": "stream",
     "text": [
      "Size\n",
      "Price\n",
      "Last Updated\n",
      "\n",
      "Current Ver\n",
      "Reviews\n"
     ]
    }
   ],
   "source": [
    "for cat, method in pseudo_categorial_dict:\n",
    "  print(cat)\n",
    "  data[cat] = method(data[cat])"
   ]
  },
  {
   "cell_type": "code",
   "execution_count": 273,
   "metadata": {},
   "outputs": [
    {
     "name": "stdout",
     "output_type": "stream",
     "text": [
      "App                object\n",
      "Category            int32\n",
      "Rating            float64\n",
      "Reviews             int64\n",
      "Size              float64\n",
      "Installs            int32\n",
      "Type                int32\n",
      "Price             float64\n",
      "Content Rating      int32\n",
      "Genres              int32\n",
      "Last Updated       object\n",
      "Current Ver       float64\n",
      "Android Ver         int32\n",
      "dtype: object\n"
     ]
    }
   ],
   "source": [
    "print(data.dtypes)"
   ]
  },
  {
   "cell_type": "markdown",
   "metadata": {},
   "source": [
    "Мне удалось преобразовать все эти разнообразные форматы в числа для дальнейшего анализа.\n",
    "\n",
    "Было потрачено слишком много времени на преведение всевозможных форматов строк к числам. С датами я этим заниматься не буду. Для исследований, она наименее полезна."
   ]
  },
  {
   "cell_type": "markdown",
   "metadata": {},
   "source": [
    "## Матрица корреляций"
   ]
  },
  {
   "cell_type": "code",
   "execution_count": 274,
   "metadata": {},
   "outputs": [
    {
     "name": "stderr",
     "output_type": "stream",
     "text": [
      "C:\\Users\\dturc\\AppData\\Local\\Temp\\ipykernel_13560\\3470817974.py:4: DeprecationWarning: `np.bool` is a deprecated alias for the builtin `bool`. To silence this warning, use `bool` by itself. Doing this will not modify any behavior and is safe. If you specifically wanted the numpy scalar type, use `np.bool_` here.\n",
      "Deprecated in NumPy 1.20; for more details and guidance: https://numpy.org/devdocs/release/1.20.0-notes.html#deprecations\n",
      "  mask = np.zeros_like(data.corr(), dtype=np.bool)\n"
     ]
    },
    {
     "data": {
      "text/plain": [
       "<AxesSubplot:>"
      ]
     },
     "execution_count": 274,
     "metadata": {},
     "output_type": "execute_result"
    },
    {
     "data": {
      "image/png": "[encoded data removed]",
      "text/plain": [
       "<Figure size 720x720 with 2 Axes>"
      ]
     },
     "metadata": {},
     "output_type": "display_data"
    }
   ],
   "source": [
    "fig, ax = plt.subplots(1, 1, sharex='col', sharey='row', figsize=(10,10))\n",
    "\n",
    "# Треугольный вариант матрицы\n",
    "mask = np.zeros_like(data.corr(), dtype=np.bool)\n",
    "mask[np.tril_indices_from(mask)] = True\n",
    "sns.heatmap(data.corr(), mask=mask, annot=True, fmt='.3f')"
   ]
  },
  {
   "cell_type": "markdown",
   "metadata": {},
   "source": [
    "## Вывод"
   ]
  },
  {
   "cell_type": "markdown",
   "metadata": {},
   "source": [
    "Это ужастный датасет как в плане очищения данных, так и по связанности признаков.\n",
    "\n",
    "Коррелируют только 2: **Category** и **Genres**.\n",
    "Слабая корреляция присутствует у признаков **Rating** и **Reviews**, по чему можно сделать вывод, что большинство людей склоны завышать оценки.\n",
    "Слабая корреляция также наблюдается у признаков **Type** и **Price**, что очевидно, потому что у всех приложений с price = 0, стоит type=free, так что эта информация не имеет никакой ценности для исследования."
   ]
  }
 ],
 "metadata": {
  "interpreter": {
   "hash": "48eacecaba2d5f5bdd55fbd8ebf2f14d3704b7f0d90ff67d7c4ce95272608e16"
  },
  "kernelspec": {
   "display_name": "Python 3.9.4 ('venv': venv)",
   "language": "python",
   "name": "python3"
  },
  "language_info": {
   "codemirror_mode": {
    "name": "ipython",
    "version": 3
   },
   "file_extension": ".py",
   "mimetype": "text/x-python",
   "name": "python",
   "nbconvert_exporter": "python",
   "pygments_lexer": "ipython3",
   "version": "3.9.4"
  },
  "orig_nbformat": 4
 },
 "nbformat": 4,
 "nbformat_minor": 2
}
