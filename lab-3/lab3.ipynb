{
 "cells": [
  {
   "cell_type": "markdown",
   "metadata": {},
   "source": [
    "Возьму **очищенный** [датасет из предыдущей ЛР](https://www.kaggle.com/datasets/padhmam/qs-world-university-rankings-2017-2022)"
   ]
  },
  {
   "cell_type": "code",
   "execution_count": 97,
   "metadata": {},
   "outputs": [
    {
     "name": "stdout",
     "output_type": "stream",
     "text": [
      "размер: (2820, 12)\n",
      "\n",
      "колонки:\n",
      " university                 object\n",
      "year                        int64\n",
      "score                     float64\n",
      "country                    object\n",
      "city                       object\n",
      "region                     object\n",
      "type                       object\n",
      "research_output            object\n",
      "student_faculty_ratio     float64\n",
      "international_students      int64\n",
      "size                       object\n",
      "faculty_count               int64\n",
      "dtype: object\n"
     ]
    },
    {
     "data": {
      "text/html": [
       "<div>\n",
       "<style scoped>\n",
       "    .dataframe tbody tr th:only-of-type {\n",
       "        vertical-align: middle;\n",
       "    }\n",
       "\n",
       "    .dataframe tbody tr th {\n",
       "        vertical-align: top;\n",
       "    }\n",
       "\n",
       "    .dataframe thead th {\n",
       "        text-align: right;\n",
       "    }\n",
       "</style>\n",
       "<table border=\"1\" class=\"dataframe\">\n",
       "  <thead>\n",
       "    <tr style=\"text-align: right;\">\n",
       "      <th></th>\n",
       "      <th>year</th>\n",
       "      <th>score</th>\n",
       "      <th>student_faculty_ratio</th>\n",
       "      <th>international_students</th>\n",
       "      <th>faculty_count</th>\n",
       "    </tr>\n",
       "  </thead>\n",
       "  <tbody>\n",
       "    <tr>\n",
       "      <th>count</th>\n",
       "      <td>2820.000000</td>\n",
       "      <td>2820.000000</td>\n",
       "      <td>2820.000000</td>\n",
       "      <td>2820.000000</td>\n",
       "      <td>2820.000000</td>\n",
       "    </tr>\n",
       "    <tr>\n",
       "      <th>mean</th>\n",
       "      <td>2019.640071</td>\n",
       "      <td>46.595532</td>\n",
       "      <td>10.652482</td>\n",
       "      <td>4483.347518</td>\n",
       "      <td>2561.719504</td>\n",
       "    </tr>\n",
       "    <tr>\n",
       "      <th>std</th>\n",
       "      <td>1.673794</td>\n",
       "      <td>18.813110</td>\n",
       "      <td>5.057507</td>\n",
       "      <td>4133.476621</td>\n",
       "      <td>1991.709499</td>\n",
       "    </tr>\n",
       "    <tr>\n",
       "      <th>min</th>\n",
       "      <td>2017.000000</td>\n",
       "      <td>23.500000</td>\n",
       "      <td>2.000000</td>\n",
       "      <td>5.000000</td>\n",
       "      <td>139.000000</td>\n",
       "    </tr>\n",
       "    <tr>\n",
       "      <th>25%</th>\n",
       "      <td>2018.000000</td>\n",
       "      <td>31.800000</td>\n",
       "      <td>7.000000</td>\n",
       "      <td>1747.000000</td>\n",
       "      <td>1218.000000</td>\n",
       "    </tr>\n",
       "    <tr>\n",
       "      <th>50%</th>\n",
       "      <td>2020.000000</td>\n",
       "      <td>40.600000</td>\n",
       "      <td>10.000000</td>\n",
       "      <td>3514.000000</td>\n",
       "      <td>2119.000000</td>\n",
       "    </tr>\n",
       "    <tr>\n",
       "      <th>75%</th>\n",
       "      <td>2021.000000</td>\n",
       "      <td>58.025000</td>\n",
       "      <td>13.000000</td>\n",
       "      <td>6062.000000</td>\n",
       "      <td>3354.000000</td>\n",
       "    </tr>\n",
       "    <tr>\n",
       "      <th>max</th>\n",
       "      <td>2022.000000</td>\n",
       "      <td>100.000000</td>\n",
       "      <td>44.000000</td>\n",
       "      <td>31049.000000</td>\n",
       "      <td>20311.000000</td>\n",
       "    </tr>\n",
       "  </tbody>\n",
       "</table>\n",
       "</div>"
      ],
      "text/plain": [
       "              year        score  student_faculty_ratio  \\\n",
       "count  2820.000000  2820.000000            2820.000000   \n",
       "mean   2019.640071    46.595532              10.652482   \n",
       "std       1.673794    18.813110               5.057507   \n",
       "min    2017.000000    23.500000               2.000000   \n",
       "25%    2018.000000    31.800000               7.000000   \n",
       "50%    2020.000000    40.600000              10.000000   \n",
       "75%    2021.000000    58.025000              13.000000   \n",
       "max    2022.000000   100.000000              44.000000   \n",
       "\n",
       "       international_students  faculty_count  \n",
       "count             2820.000000    2820.000000  \n",
       "mean              4483.347518    2561.719504  \n",
       "std               4133.476621    1991.709499  \n",
       "min                  5.000000     139.000000  \n",
       "25%               1747.000000    1218.000000  \n",
       "50%               3514.000000    2119.000000  \n",
       "75%               6062.000000    3354.000000  \n",
       "max              31049.000000   20311.000000  "
      ]
     },
     "execution_count": 97,
     "metadata": {},
     "output_type": "execute_result"
    }
   ],
   "source": [
    "import numpy as np\n",
    "import pandas as pd\n",
    "import seaborn as sns\n",
    "import matplotlib.pyplot as plt\n",
    "\n",
    "from sklearn.model_selection import train_test_split\n",
    "from sklearn.neighbors import KNeighborsRegressor\n",
    "from sklearn.preprocessing import LabelEncoder\n",
    "from sklearn.metrics import mean_absolute_error, mean_squared_error, median_absolute_error, r2_score \n",
    "from sklearn.metrics import roc_curve, roc_auc_score\n",
    "from sklearn.model_selection import GridSearchCV, RandomizedSearchCV\n",
    "from sklearn.model_selection import learning_curve, validation_curve\n",
    "\n",
    "%matplotlib inline \n",
    "sns.set(style=\"ticks\")\n",
    "\n",
    "# Открою датасет\n",
    "data = pd.read_csv('../lab-2/university-rankings-cleared.csv', sep=\",\")\n",
    "# характеристики\n",
    "print(\"размер:\", data.shape)\n",
    "print(\"\\nколонки:\\n\", data.dtypes)\n",
    "data.head()\n",
    "data.describe()"
   ]
  },
  {
   "cell_type": "markdown",
   "metadata": {},
   "source": [
    "Разделю выборку. Целью исследования поставлю определение качества индивидуального отношения к студенту student_faculty_ratio (согласно авторам датасета, чем меньше число, тем обучение студента [более индивидуально](https://www.kaggle.com/code/padhmam?scriptVersionId=87338978&cellId=66])), от числа иностранных студентов, кол-ва персонала.\n",
    "\n",
    "![](../lab-2/detaset_contents.png)"
   ]
  },
  {
   "cell_type": "markdown",
   "metadata": {},
   "source": [
    "Оценю корреляцию данных и других числовых признаков:"
   ]
  },
  {
   "cell_type": "code",
   "execution_count": 98,
   "metadata": {},
   "outputs": [
    {
     "name": "stderr",
     "output_type": "stream",
     "text": [
      "C:\\Users\\dturc\\AppData\\Local\\Temp\\ipykernel_1900\\3470817974.py:4: DeprecationWarning: `np.bool` is a deprecated alias for the builtin `bool`. To silence this warning, use `bool` by itself. Doing this will not modify any behavior and is safe. If you specifically wanted the numpy scalar type, use `np.bool_` here.\n",
      "Deprecated in NumPy 1.20; for more details and guidance: https://numpy.org/devdocs/release/1.20.0-notes.html#deprecations\n",
      "  mask = np.zeros_like(data.corr(), dtype=np.bool)\n"
     ]
    },
    {
     "data": {
      "text/plain": [
       "<AxesSubplot:>"
      ]
     },
     "execution_count": 98,
     "metadata": {},
     "output_type": "execute_result"
    },
    {
     "data": {
      "image/png": "[encoded data removed]",
      "text/plain": [
       "<Figure size 720x720 with 2 Axes>"
      ]
     },
     "metadata": {},
     "output_type": "display_data"
    }
   ],
   "source": [
    "fig, ax = plt.subplots(1, 1, sharex='col', sharey='row', figsize=(10,10))\n",
    "\n",
    "# Треугольный вариант матрицы\n",
    "mask = np.zeros_like(data.corr(), dtype=np.bool)\n",
    "mask[np.tril_indices_from(mask)] = True\n",
    "sns.heatmap(data.corr(), mask=mask, annot=True, fmt='.3f')"
   ]
  },
  {
   "cell_type": "markdown",
   "metadata": {},
   "source": [
    "Видно, что для выбранной мной цели корреляция признаков довольно слабая.\n",
    "По данному датасету намного лучше сделать исследование примерной оценки **score** от **international_students**, **faculty_count**, **student_faculty_ratio**.\n",
    "Думаю, оценка так же зависит от страны и качества исследования, но они категориальные. Чтобы узнать корреляцию, придется перекодировать:"
   ]
  },
  {
   "cell_type": "code",
   "execution_count": 99,
   "metadata": {},
   "outputs": [
    {
     "name": "stdout",
     "output_type": "stream",
     "text": [
      "['university', 'country', 'city', 'region', 'type', 'research_output', 'size']\n",
      "['year', 'score', 'student_faculty_ratio', 'international_students', 'faculty_count']\n"
     ]
    }
   ],
   "source": [
    "from sklearn.tree import DecisionTreeRegressor, DecisionTreeClassifier\n",
    "\n",
    "num_cols_list = []\n",
    "cat_cols_list = []\n",
    "\n",
    "for index, value in data.items():\n",
    "  if (str(data[index].dtype) == \"float64\" or str(data[index].dtype) == \"int64\"):\n",
    "    num_cols_list.append(index)\n",
    "  elif str(data[index].dtype) == \"object\":\n",
    "    cat_cols_list.append(index)\n",
    "\n",
    "print(cat_cols_list)\n",
    "print(num_cols_list)"
   ]
  },
  {
   "cell_type": "markdown",
   "metadata": {},
   "source": [
    "university имеет data.shape[1] уникальных записей, т.е. брать его для обучения бессмысленно. Так же уберу из списка целевой признак и год, который имеет крайне слабую корреляцию 0.14 с целевым признаком"
   ]
  },
  {
   "cell_type": "code",
   "execution_count": 100,
   "metadata": {},
   "outputs": [],
   "source": [
    "cat_cols_list.remove('university')\n",
    "# cat_cols_list.remove('research_output')\n",
    "num_cols_list.remove('score')\n",
    "num_cols_list.remove('year')"
   ]
  },
  {
   "cell_type": "code",
   "execution_count": 101,
   "metadata": {},
   "outputs": [
    {
     "name": "stdout",
     "output_type": "stream",
     "text": [
      "university                 object\n",
      "year                        int64\n",
      "score                     float64\n",
      "country                     int32\n",
      "city                        int32\n",
      "region                      int32\n",
      "type                        int32\n",
      "research_output             int32\n",
      "student_faculty_ratio     float64\n",
      "international_students      int64\n",
      "size                        int32\n",
      "faculty_count               int64\n",
      "dtype: object\n"
     ]
    }
   ],
   "source": [
    "# сохраню возможность декодирования сюда\n",
    "cat_names_decoding_map = dict()\n",
    "\n",
    "for cat in cat_cols_list:\n",
    "  le = LabelEncoder()\n",
    "  lables = le.fit_transform(data[cat])\n",
    "  data[cat] = le.transform(data[cat])\n",
    "  cat_names_decoding_map[cat] = {\n",
    "    'encoder': le,\n",
    "    'lables': lables,\n",
    "  }\n",
    "\n",
    "print(data.dtypes)"
   ]
  },
  {
   "cell_type": "markdown",
   "metadata": {},
   "source": [
    "Полезность признаков можно оценить, если построить модель решающее дерево: "
   ]
  },
  {
   "cell_type": "code",
   "execution_count": 102,
   "metadata": {},
   "outputs": [
    {
     "name": "stdout",
     "output_type": "stream",
     "text": [
      "student_faculty_ratio - 0.26\n",
      "international_students - 0.4\n",
      "faculty_count - 0.098\n",
      "country - 0.11\n",
      "city - 0.07\n",
      "region - 0.026\n",
      "type - 0.0069\n",
      "research_output - 0.018\n",
      "size - 0.0075\n"
     ]
    }
   ],
   "source": [
    "dtrr = DecisionTreeRegressor()\n",
    "dtrr.fit(data[num_cols_list + cat_cols_list], data['score'])\n",
    "for idx, cat in enumerate(num_cols_list + cat_cols_list):\n",
    "  print(cat, '-', '{:1.2}'.format(dtrr.feature_importances_[idx]))\n"
   ]
  },
  {
   "cell_type": "markdown",
   "metadata": {},
   "source": [
    "Следует, как я и предположил изначально, взять признаки: **international_students**, **student_faculty_ratio**, **faculty_count**, но еще есть смысл добавить **city** и **country**. Единственное, ясно, что эти 2 признака коррелируют между собой, а ошибка в указании города вида \"этого города нет в этой стране\" только помешает предсказанию. Возьму только страну. "
   ]
  },
  {
   "cell_type": "code",
   "execution_count": 103,
   "metadata": {},
   "outputs": [
    {
     "name": "stdout",
     "output_type": "stream",
     "text": [
      "Размер тестовой выборки: 564\n",
      "Размер тренировочной выборки: 2256\n",
      "      student_faculty_ratio  international_students  faculty_count  country\n",
      "1216                    6.0                    1172           1733       60\n",
      "2340                    7.0                    8311           2944       21\n",
      "559                    15.0                    6979           3002       51\n",
      "1223                   17.0                    1156           1700       60\n",
      "2168                    7.0                     563           1608       40\n",
      "\n",
      "1216    27.5\n",
      "2340    86.3\n",
      "559     52.9\n",
      "1223    27.2\n",
      "2168    30.5\n",
      "Name: score, dtype: float64\n"
     ]
    }
   ],
   "source": [
    "cols_list = ['student_faculty_ratio', 'international_students', 'faculty_count', 'country']\n",
    "\n",
    "X_train, X_test, Y_train, Y_test = train_test_split(data[cols_list], data['score'], test_size=0.2, random_state=1)\n",
    "print('Размер тестовой выборки:', X_test.shape[0])\n",
    "print('Размер тренировочной выборки:', X_train.shape[0])\n",
    "print(X_train.head())\n",
    "print()\n",
    "print(Y_train.head())\n"
   ]
  },
  {
   "cell_type": "markdown",
   "metadata": {},
   "source": [
    "Буду сравнивать 2 модели с K=5 и K=10"
   ]
  },
  {
   "cell_type": "code",
   "execution_count": 104,
   "metadata": {},
   "outputs": [],
   "source": [
    "knn = KNeighborsRegressor(n_neighbors=5)\n",
    "knn.fit(X_train, Y_train)\n",
    "knn_reg_prediction = knn.predict(X_test)"
   ]
  },
  {
   "cell_type": "code",
   "execution_count": 105,
   "metadata": {},
   "outputs": [],
   "source": [
    "knn2 = KNeighborsRegressor(n_neighbors=10)\n",
    "knn2.fit(X_train, Y_train)\n",
    "knn2_reg_prediction = knn2.predict(X_test)"
   ]
  },
  {
   "cell_type": "markdown",
   "metadata": {},
   "source": [
    "### Метрики качества регрессии\n",
    "\n",
    "   1. [Mean absolute error](https://en.wikipedia.org/wiki/Mean_absolute_error) - средняя абсолютная ошибка\n",
    "\n",
    "   1. [Mean squared error](https://en.wikipedia.org/wiki/Mean_squared_error) - средняя квадратичная ошибка, и [Root mean squared error](https://en.wikipedia.org/wiki/Root-mean-square_deviation) - корень из средней квадратичной ошибки\n",
    "   \n",
    "   1. Median absolute error\n",
    "   \n",
    "   1. [Метрика $R^2$ или коэффициент детерминации](https://ru.wikipedia.org/wiki/%D0%9A%D0%BE%D1%8D%D1%84%D1%84%D0%B8%D1%86%D0%B8%D0%B5%D0%BD%D1%82_%D0%B4%D0%B5%D1%82%D0%B5%D1%80%D0%BC%D0%B8%D0%BD%D0%B0%D1%86%D0%B8%D0%B8) \n",
    "   "
   ]
  },
  {
   "cell_type": "code",
   "execution_count": 106,
   "metadata": {},
   "outputs": [
    {
     "name": "stdout",
     "output_type": "stream",
     "text": [
      "4.736631205673759\n",
      "9.056187943262412\n"
     ]
    }
   ],
   "source": [
    "print(mean_absolute_error(Y_test, knn_reg_prediction))\n",
    "print(mean_absolute_error(Y_test, knn2_reg_prediction))"
   ]
  },
  {
   "cell_type": "markdown",
   "metadata": {},
   "source": [
    "Ошибка во втором случае хуже, значит, модель хуже. А что по среднеквадратичной ошибке?"
   ]
  },
  {
   "cell_type": "code",
   "execution_count": 107,
   "metadata": {},
   "outputs": [
    {
     "name": "stdout",
     "output_type": "stream",
     "text": [
      "48.65829432624114\n",
      "149.33449911347518\n"
     ]
    }
   ],
   "source": [
    "print(mean_squared_error(Y_test, knn_reg_prediction))\n",
    "print(mean_squared_error(Y_test, knn2_reg_prediction))"
   ]
  },
  {
   "cell_type": "markdown",
   "metadata": {},
   "source": [
    "Квадрат ошибки тоже хуже во втором случае"
   ]
  },
  {
   "cell_type": "markdown",
   "metadata": {},
   "source": [
    "Что с медианой?"
   ]
  },
  {
   "cell_type": "code",
   "execution_count": 108,
   "metadata": {},
   "outputs": [
    {
     "name": "stdout",
     "output_type": "stream",
     "text": [
      "3.139999999999997\n",
      "6.969999999999999\n"
     ]
    }
   ],
   "source": [
    "print(median_absolute_error(Y_test, knn_reg_prediction))\n",
    "print(median_absolute_error(Y_test, knn2_reg_prediction))"
   ]
  },
  {
   "cell_type": "markdown",
   "metadata": {},
   "source": [
    "Снова хуже во втором случае"
   ]
  },
  {
   "cell_type": "code",
   "execution_count": 109,
   "metadata": {},
   "outputs": [
    {
     "name": "stdout",
     "output_type": "stream",
     "text": [
      "0.8572150859469307\n",
      "0.5617866611165513\n"
     ]
    }
   ],
   "source": [
    "print(r2_score(Y_test, knn_reg_prediction))\n",
    "print(r2_score(Y_test, knn2_reg_prediction))"
   ]
  },
  {
   "cell_type": "markdown",
   "metadata": {},
   "source": [
    "чем ниже коэффициент детерминации ($R^2$), тем менее точна модель."
   ]
  },
  {
   "cell_type": "markdown",
   "metadata": {},
   "source": [
    "## Оптимизация гиперпараметра К"
   ]
  },
  {
   "cell_type": "code",
   "execution_count": 110,
   "metadata": {},
   "outputs": [
    {
     "data": {
      "text/plain": [
       "[{'n_neighbors': [5, 10, 15, 20, 25, 30]}]"
      ]
     },
     "execution_count": 110,
     "metadata": {},
     "output_type": "execute_result"
    }
   ],
   "source": [
    "tuned_parameters = [{'n_neighbors': list(range(5, 35, 5))}]\n",
    "tuned_parameters"
   ]
  },
  {
   "cell_type": "markdown",
   "metadata": {},
   "source": [
    "![](./metrics%20name%20list.png)"
   ]
  },
  {
   "cell_type": "code",
   "execution_count": 111,
   "metadata": {},
   "outputs": [
    {
     "name": "stdout",
     "output_type": "stream",
     "text": [
      "{'n_neighbors': 5} -86.90587904989896\n",
      "CPU times: total: 172 ms\n",
      "Wall time: 169 ms\n"
     ]
    },
    {
     "name": "stderr",
     "output_type": "stream",
     "text": [
      "c:\\Users\\dturc\\source\\repos\\Denactive\\TML\\venv\\lib\\site-packages\\sklearn\\model_selection\\_search.py:292: UserWarning: The total space of parameters 6 is smaller than n_iter=10. Running 6 iterations. For exhaustive searches, use GridSearchCV.\n",
      "  warnings.warn(\n"
     ]
    },
    {
     "data": {
      "text/plain": [
       "array([ -86.90587905, -161.01266353, -179.6281489 , -190.92521516,\n",
       "       -199.88355812, -209.57430155])"
      ]
     },
     "execution_count": 111,
     "metadata": {},
     "output_type": "execute_result"
    }
   ],
   "source": [
    "%%time\n",
    "clf_rs = RandomizedSearchCV(KNeighborsRegressor(), tuned_parameters, cv=5, scoring='neg_mean_squared_error')\n",
    "clf_rs.fit(X_train, Y_train)\n",
    "print(clf_rs.best_params_, clf_rs.best_score_)\n",
    "clf_rs.cv_results_['mean_test_score']"
   ]
  },
  {
   "cell_type": "code",
   "execution_count": 112,
   "metadata": {},
   "outputs": [
    {
     "name": "stdout",
     "output_type": "stream",
     "text": [
      "21.602376418439718\n"
     ]
    }
   ],
   "source": [
    "print(mean_squared_error(Y_train, knn.predict(X_train)))"
   ]
  },
  {
   "cell_type": "markdown",
   "metadata": {},
   "source": [
    "Видимо, я угадал с гиперпараметром. В моем исследовании KNeighborsRegressor с n_neighbors=5 показал минимальную среднеквадратичную ошибку 48.65829432624114 на тестовых данных и 21.602376418439718 на тренировочных. Что-то не сходится, но RandomizedSearchCV не является надежным помошником на малом количестве фолдов, о чем и предупреждает надпись. Исследую окрестности более точным GridSearchCV'ом:"
   ]
  },
  {
   "cell_type": "code",
   "execution_count": 113,
   "metadata": {},
   "outputs": [
    {
     "name": "stdout",
     "output_type": "stream",
     "text": [
      "[{'n_neighbors': [1, 2, 3, 4, 5, 6, 7, 8, 9]}]\n"
     ]
    }
   ],
   "source": [
    "tuned_surroundings_5 = [{'n_neighbors': list(range(1, 10))}]\n",
    "print(tuned_surroundings_5)"
   ]
  },
  {
   "cell_type": "code",
   "execution_count": 114,
   "metadata": {},
   "outputs": [
    {
     "name": "stdout",
     "output_type": "stream",
     "text": [
      "{'n_neighbors': 1} -20.321050428742424\n",
      "{1: -20.321050428742424, 4: -86.90587904989896}\n",
      "CPU times: total: 266 ms\n",
      "Wall time: 242 ms\n"
     ]
    }
   ],
   "source": [
    "%%time\n",
    "clf_gs = GridSearchCV(KNeighborsRegressor(), tuned_surroundings_5, cv=5, scoring='neg_mean_squared_error')\n",
    "clf_gs.fit(X_train, Y_train)\n",
    "clf_gs.best_params_\n",
    "print(clf_gs.best_params_, clf_gs.best_score_)\n",
    "print({1: clf_gs.cv_results_['mean_test_score'][1-1], 4: clf_gs.cv_results_['mean_test_score'][5-1]})"
   ]
  },
  {
   "cell_type": "markdown",
   "metadata": {},
   "source": [
    "GridSearchCV дает более оптимальное значение для гиперпараметра - 1 вместо 5. Для 5 оценка совпадает с оценкой RandomSearch'а.\n",
    "\n",
    "Проведу переобучение с гиперпараметром k = 1"
   ]
  },
  {
   "cell_type": "code",
   "execution_count": 115,
   "metadata": {},
   "outputs": [],
   "source": [
    "knn_opt = KNeighborsRegressor(n_neighbors=1)\n",
    "knn_opt.fit(X_train, Y_train)\n",
    "knn_opt_prediction = knn_opt.predict(X_test)"
   ]
  },
  {
   "cell_type": "code",
   "execution_count": 116,
   "metadata": {},
   "outputs": [
    {
     "name": "stdout",
     "output_type": "stream",
     "text": [
      "\tK=1\t \tK=5\t\n",
      "2.857269503546099 - 4.736631205673759\n",
      "16.425124113475178 - 48.65829432624114\n",
      "2.0999999999999943 - 3.139999999999997\n",
      "0.9518014355552787 - 0.8572150859469307\n"
     ]
    }
   ],
   "source": [
    "print('\\tK=1\\t', '\\tK=5\\t')\n",
    "print(mean_absolute_error(Y_test, knn_opt_prediction), '-', mean_absolute_error(Y_test, knn_reg_prediction))\n",
    "print(mean_squared_error(Y_test, knn_opt_prediction), '-', mean_squared_error(Y_test, knn_reg_prediction))\n",
    "print(median_absolute_error(Y_test, knn_opt_prediction), '-', median_absolute_error(Y_test, knn_reg_prediction))\n",
    "print(r2_score(Y_test, knn_opt_prediction), '-', r2_score(Y_test, knn_reg_prediction))"
   ]
  },
  {
   "cell_type": "markdown",
   "metadata": {},
   "source": [
    "По всем критериям качество предсказания улучшилось"
   ]
  },
  {
   "cell_type": "code",
   "execution_count": 122,
   "metadata": {},
   "outputs": [],
   "source": [
    "def plot_learning_curve(estimator, title, X, y, ylim=None, cv=None,\n",
    "                        n_jobs=None, train_sizes=np.linspace(.1, 1.0, 5)):\n",
    "    plt.figure()\n",
    "    plt.title(title)\n",
    "    if ylim is not None:\n",
    "        plt.ylim(*ylim)\n",
    "    plt.xlabel(\"Training examples\")\n",
    "    plt.ylabel(\"Score\")\n",
    "    train_sizes, train_scores, test_scores = learning_curve(\n",
    "        estimator, X, y, cv=cv, n_jobs=n_jobs, train_sizes=train_sizes)\n",
    "    train_scores_mean = np.mean(train_scores, axis=1)\n",
    "    train_scores_std = np.std(train_scores, axis=1)\n",
    "    test_scores_mean = np.mean(test_scores, axis=1)\n",
    "    test_scores_std = np.std(test_scores, axis=1)\n",
    "    plt.grid()\n",
    "\n",
    "    plt.fill_between(train_sizes, train_scores_mean - train_scores_std,\n",
    "                     train_scores_mean + train_scores_std, alpha=0.3,\n",
    "                     color=\"r\")\n",
    "    plt.fill_between(train_sizes, test_scores_mean - test_scores_std,\n",
    "                     test_scores_mean + test_scores_std, alpha=0.1, color=\"g\")\n",
    "    plt.plot(train_sizes, train_scores_mean, 'o-', color=\"r\",\n",
    "             label=\"Training score\")\n",
    "    plt.plot(train_sizes, test_scores_mean, 'o-', color=\"g\",\n",
    "             label=\"Cross-validation score\")\n",
    "\n",
    "    plt.legend(loc=\"best\")\n",
    "    return plt"
   ]
  },
  {
   "cell_type": "code",
   "execution_count": 131,
   "metadata": {},
   "outputs": [
    {
     "data": {
      "text/plain": [
       "<module 'matplotlib.pyplot' from 'c:\\\\Users\\\\dturc\\\\source\\\\repos\\\\Denactive\\\\TML\\\\venv\\\\lib\\\\site-packages\\\\matplotlib\\\\pyplot.py'>"
      ]
     },
     "execution_count": 131,
     "metadata": {},
     "output_type": "execute_result"
    },
    {
     "data": {
      "image/png": "[encoded data removed]",
      "text/plain": [
       "<Figure size 432x288 with 1 Axes>"
      ]
     },
     "metadata": {},
     "output_type": "display_data"
    }
   ],
   "source": [
    "plot_learning_curve(KNeighborsRegressor(n_neighbors=1), 'n_neighbors=1', X_train, Y_train, cv=5)"
   ]
  },
  {
   "cell_type": "code",
   "execution_count": 119,
   "metadata": {},
   "outputs": [],
   "source": [
    "def plot_validation_curve(estimator, title, X, y, \n",
    "                          param_name, param_range, cv, \n",
    "                          scoring=\"accuracy\"):\n",
    "                                                   \n",
    "    train_scores, test_scores = validation_curve(\n",
    "        estimator, X, y, param_name=param_name, param_range=param_range,\n",
    "        cv=cv, scoring=scoring, n_jobs=1)\n",
    "    train_scores_mean = np.mean(train_scores, axis=1)\n",
    "    train_scores_std = np.std(train_scores, axis=1)\n",
    "    test_scores_mean = np.mean(test_scores, axis=1)\n",
    "    test_scores_std = np.std(test_scores, axis=1)\n",
    "\n",
    "    plt.title(title)\n",
    "    plt.xlabel(param_name)\n",
    "    plt.ylabel(str(scoring))\n",
    "    plt.ylim(0.0, 1.1)\n",
    "    lw = 2\n",
    "    plt.plot(param_range, train_scores_mean, label=\"Training score\",\n",
    "                 color=\"darkorange\", lw=lw)\n",
    "    plt.fill_between(param_range, train_scores_mean - train_scores_std,\n",
    "                     train_scores_mean + train_scores_std, alpha=0.4,\n",
    "                     color=\"darkorange\", lw=lw)\n",
    "    plt.plot(param_range, test_scores_mean, label=\"Cross-validation score\",\n",
    "                 color=\"navy\", lw=lw)\n",
    "    plt.fill_between(param_range, test_scores_mean - test_scores_std,\n",
    "                     test_scores_mean + test_scores_std, alpha=0.2,\n",
    "                     color=\"navy\", lw=lw)\n",
    "    plt.legend(loc=\"best\")\n",
    "    return plt"
   ]
  },
  {
   "cell_type": "code",
   "execution_count": 134,
   "metadata": {},
   "outputs": [
    {
     "ename": "TypeError",
     "evalue": "float() argument must be a string or a number, not 'dict'",
     "output_type": "error",
     "traceback": [
      "\u001b[1;31m---------------------------------------------------------------------------\u001b[0m",
      "\u001b[1;31mTypeError\u001b[0m                                 Traceback (most recent call last)",
      "\u001b[1;32mc:\\Users\\dturc\\source\\repos\\Denactive\\TML\\lab-3\\lab3.ipynb Cell 43'\u001b[0m in \u001b[0;36m<module>\u001b[1;34m\u001b[0m\n\u001b[1;32m----> <a href='vscode-notebook-cell:/c%3A/Users/dturc/source/repos/Denactive/TML/lab-3/lab3.ipynb#ch0000041?line=0'>1</a>\u001b[0m plot_validation_curve(KNeighborsRegressor(n_neighbors\u001b[39m=\u001b[39;49m\u001b[39m1\u001b[39;49m), \u001b[39m'\u001b[39;49m\u001b[39mknn\u001b[39;49m\u001b[39m'\u001b[39;49m, X_train, Y_train, \u001b[39m'\u001b[39;49m\u001b[39mn_neighbors\u001b[39;49m\u001b[39m'\u001b[39;49m, tuned_surroundings_5, \u001b[39m20\u001b[39;49m, \u001b[39m\"\u001b[39;49m\u001b[39mneg_mean_squared_error\u001b[39;49m\u001b[39m\"\u001b[39;49m)\n",
      "\u001b[1;32mc:\\Users\\dturc\\source\\repos\\Denactive\\TML\\lab-3\\lab3.ipynb Cell 42'\u001b[0m in \u001b[0;36mplot_validation_curve\u001b[1;34m(estimator, title, X, y, param_name, param_range, cv, scoring)\u001b[0m\n\u001b[0;32m     <a href='vscode-notebook-cell:/c%3A/Users/dturc/source/repos/Denactive/TML/lab-3/lab3.ipynb#ch0000042?line=15'>16</a>\u001b[0m plt\u001b[39m.\u001b[39mylim(\u001b[39m0.0\u001b[39m, \u001b[39m1.1\u001b[39m)\n\u001b[0;32m     <a href='vscode-notebook-cell:/c%3A/Users/dturc/source/repos/Denactive/TML/lab-3/lab3.ipynb#ch0000042?line=16'>17</a>\u001b[0m lw \u001b[39m=\u001b[39m \u001b[39m2\u001b[39m\n\u001b[1;32m---> <a href='vscode-notebook-cell:/c%3A/Users/dturc/source/repos/Denactive/TML/lab-3/lab3.ipynb#ch0000042?line=17'>18</a>\u001b[0m plt\u001b[39m.\u001b[39;49mplot(param_range, train_scores_mean, label\u001b[39m=\u001b[39;49m\u001b[39m\"\u001b[39;49m\u001b[39mTraining score\u001b[39;49m\u001b[39m\"\u001b[39;49m,\n\u001b[0;32m     <a href='vscode-notebook-cell:/c%3A/Users/dturc/source/repos/Denactive/TML/lab-3/lab3.ipynb#ch0000042?line=18'>19</a>\u001b[0m              color\u001b[39m=\u001b[39;49m\u001b[39m\"\u001b[39;49m\u001b[39mdarkorange\u001b[39;49m\u001b[39m\"\u001b[39;49m, lw\u001b[39m=\u001b[39;49mlw)\n\u001b[0;32m     <a href='vscode-notebook-cell:/c%3A/Users/dturc/source/repos/Denactive/TML/lab-3/lab3.ipynb#ch0000042?line=19'>20</a>\u001b[0m plt\u001b[39m.\u001b[39mfill_between(param_range, train_scores_mean \u001b[39m-\u001b[39m train_scores_std,\n\u001b[0;32m     <a href='vscode-notebook-cell:/c%3A/Users/dturc/source/repos/Denactive/TML/lab-3/lab3.ipynb#ch0000042?line=20'>21</a>\u001b[0m                  train_scores_mean \u001b[39m+\u001b[39m train_scores_std, alpha\u001b[39m=\u001b[39m\u001b[39m0.4\u001b[39m,\n\u001b[0;32m     <a href='vscode-notebook-cell:/c%3A/Users/dturc/source/repos/Denactive/TML/lab-3/lab3.ipynb#ch0000042?line=21'>22</a>\u001b[0m                  color\u001b[39m=\u001b[39m\u001b[39m\"\u001b[39m\u001b[39mdarkorange\u001b[39m\u001b[39m\"\u001b[39m, lw\u001b[39m=\u001b[39mlw)\n\u001b[0;32m     <a href='vscode-notebook-cell:/c%3A/Users/dturc/source/repos/Denactive/TML/lab-3/lab3.ipynb#ch0000042?line=22'>23</a>\u001b[0m plt\u001b[39m.\u001b[39mplot(param_range, test_scores_mean, label\u001b[39m=\u001b[39m\u001b[39m\"\u001b[39m\u001b[39mCross-validation score\u001b[39m\u001b[39m\"\u001b[39m,\n\u001b[0;32m     <a href='vscode-notebook-cell:/c%3A/Users/dturc/source/repos/Denactive/TML/lab-3/lab3.ipynb#ch0000042?line=23'>24</a>\u001b[0m              color\u001b[39m=\u001b[39m\u001b[39m\"\u001b[39m\u001b[39mnavy\u001b[39m\u001b[39m\"\u001b[39m, lw\u001b[39m=\u001b[39mlw)\n",
      "File \u001b[1;32mc:\\Users\\dturc\\source\\repos\\Denactive\\TML\\venv\\lib\\site-packages\\matplotlib\\pyplot.py:2757\u001b[0m, in \u001b[0;36mplot\u001b[1;34m(scalex, scaley, data, *args, **kwargs)\u001b[0m\n\u001b[0;32m   <a href='file:///c%3A/Users/dturc/source/repos/Denactive/TML/venv/lib/site-packages/matplotlib/pyplot.py?line=2754'>2755</a>\u001b[0m \u001b[39m@_copy_docstring_and_deprecators\u001b[39m(Axes\u001b[39m.\u001b[39mplot)\n\u001b[0;32m   <a href='file:///c%3A/Users/dturc/source/repos/Denactive/TML/venv/lib/site-packages/matplotlib/pyplot.py?line=2755'>2756</a>\u001b[0m \u001b[39mdef\u001b[39;00m \u001b[39mplot\u001b[39m(\u001b[39m*\u001b[39margs, scalex\u001b[39m=\u001b[39m\u001b[39mTrue\u001b[39;00m, scaley\u001b[39m=\u001b[39m\u001b[39mTrue\u001b[39;00m, data\u001b[39m=\u001b[39m\u001b[39mNone\u001b[39;00m, \u001b[39m*\u001b[39m\u001b[39m*\u001b[39mkwargs):\n\u001b[1;32m-> <a href='file:///c%3A/Users/dturc/source/repos/Denactive/TML/venv/lib/site-packages/matplotlib/pyplot.py?line=2756'>2757</a>\u001b[0m     \u001b[39mreturn\u001b[39;00m gca()\u001b[39m.\u001b[39mplot(\n\u001b[0;32m   <a href='file:///c%3A/Users/dturc/source/repos/Denactive/TML/venv/lib/site-packages/matplotlib/pyplot.py?line=2757'>2758</a>\u001b[0m         \u001b[39m*\u001b[39margs, scalex\u001b[39m=\u001b[39mscalex, scaley\u001b[39m=\u001b[39mscaley,\n\u001b[0;32m   <a href='file:///c%3A/Users/dturc/source/repos/Denactive/TML/venv/lib/site-packages/matplotlib/pyplot.py?line=2758'>2759</a>\u001b[0m         \u001b[39m*\u001b[39m\u001b[39m*\u001b[39m({\u001b[39m\"\u001b[39m\u001b[39mdata\u001b[39m\u001b[39m\"\u001b[39m: data} \u001b[39mif\u001b[39;00m data \u001b[39mis\u001b[39;00m \u001b[39mnot\u001b[39;00m \u001b[39mNone\u001b[39;00m \u001b[39melse\u001b[39;00m {}), \u001b[39m*\u001b[39m\u001b[39m*\u001b[39mkwargs)\n",
      "File \u001b[1;32mc:\\Users\\dturc\\source\\repos\\Denactive\\TML\\venv\\lib\\site-packages\\matplotlib\\axes\\_axes.py:1634\u001b[0m, in \u001b[0;36mAxes.plot\u001b[1;34m(self, scalex, scaley, data, *args, **kwargs)\u001b[0m\n\u001b[0;32m   <a href='file:///c%3A/Users/dturc/source/repos/Denactive/TML/venv/lib/site-packages/matplotlib/axes/_axes.py?line=1631'>1632</a>\u001b[0m lines \u001b[39m=\u001b[39m [\u001b[39m*\u001b[39m\u001b[39mself\u001b[39m\u001b[39m.\u001b[39m_get_lines(\u001b[39m*\u001b[39margs, data\u001b[39m=\u001b[39mdata, \u001b[39m*\u001b[39m\u001b[39m*\u001b[39mkwargs)]\n\u001b[0;32m   <a href='file:///c%3A/Users/dturc/source/repos/Denactive/TML/venv/lib/site-packages/matplotlib/axes/_axes.py?line=1632'>1633</a>\u001b[0m \u001b[39mfor\u001b[39;00m line \u001b[39min\u001b[39;00m lines:\n\u001b[1;32m-> <a href='file:///c%3A/Users/dturc/source/repos/Denactive/TML/venv/lib/site-packages/matplotlib/axes/_axes.py?line=1633'>1634</a>\u001b[0m     \u001b[39mself\u001b[39;49m\u001b[39m.\u001b[39;49madd_line(line)\n\u001b[0;32m   <a href='file:///c%3A/Users/dturc/source/repos/Denactive/TML/venv/lib/site-packages/matplotlib/axes/_axes.py?line=1634'>1635</a>\u001b[0m \u001b[39mself\u001b[39m\u001b[39m.\u001b[39m_request_autoscale_view(scalex\u001b[39m=\u001b[39mscalex, scaley\u001b[39m=\u001b[39mscaley)\n\u001b[0;32m   <a href='file:///c%3A/Users/dturc/source/repos/Denactive/TML/venv/lib/site-packages/matplotlib/axes/_axes.py?line=1635'>1636</a>\u001b[0m \u001b[39mreturn\u001b[39;00m lines\n",
      "File \u001b[1;32mc:\\Users\\dturc\\source\\repos\\Denactive\\TML\\venv\\lib\\site-packages\\matplotlib\\axes\\_base.py:2283\u001b[0m, in \u001b[0;36m_AxesBase.add_line\u001b[1;34m(self, line)\u001b[0m\n\u001b[0;32m   <a href='file:///c%3A/Users/dturc/source/repos/Denactive/TML/venv/lib/site-packages/matplotlib/axes/_base.py?line=2279'>2280</a>\u001b[0m \u001b[39mif\u001b[39;00m line\u001b[39m.\u001b[39mget_clip_path() \u001b[39mis\u001b[39;00m \u001b[39mNone\u001b[39;00m:\n\u001b[0;32m   <a href='file:///c%3A/Users/dturc/source/repos/Denactive/TML/venv/lib/site-packages/matplotlib/axes/_base.py?line=2280'>2281</a>\u001b[0m     line\u001b[39m.\u001b[39mset_clip_path(\u001b[39mself\u001b[39m\u001b[39m.\u001b[39mpatch)\n\u001b[1;32m-> <a href='file:///c%3A/Users/dturc/source/repos/Denactive/TML/venv/lib/site-packages/matplotlib/axes/_base.py?line=2282'>2283</a>\u001b[0m \u001b[39mself\u001b[39;49m\u001b[39m.\u001b[39;49m_update_line_limits(line)\n\u001b[0;32m   <a href='file:///c%3A/Users/dturc/source/repos/Denactive/TML/venv/lib/site-packages/matplotlib/axes/_base.py?line=2283'>2284</a>\u001b[0m \u001b[39mif\u001b[39;00m \u001b[39mnot\u001b[39;00m line\u001b[39m.\u001b[39mget_label():\n\u001b[0;32m   <a href='file:///c%3A/Users/dturc/source/repos/Denactive/TML/venv/lib/site-packages/matplotlib/axes/_base.py?line=2284'>2285</a>\u001b[0m     line\u001b[39m.\u001b[39mset_label(\u001b[39mf\u001b[39m\u001b[39m'\u001b[39m\u001b[39m_child\u001b[39m\u001b[39m{\u001b[39;00m\u001b[39mlen\u001b[39m(\u001b[39mself\u001b[39m\u001b[39m.\u001b[39m_children)\u001b[39m}\u001b[39;00m\u001b[39m'\u001b[39m)\n",
      "File \u001b[1;32mc:\\Users\\dturc\\source\\repos\\Denactive\\TML\\venv\\lib\\site-packages\\matplotlib\\axes\\_base.py:2306\u001b[0m, in \u001b[0;36m_AxesBase._update_line_limits\u001b[1;34m(self, line)\u001b[0m\n\u001b[0;32m   <a href='file:///c%3A/Users/dturc/source/repos/Denactive/TML/venv/lib/site-packages/matplotlib/axes/_base.py?line=2301'>2302</a>\u001b[0m \u001b[39mdef\u001b[39;00m \u001b[39m_update_line_limits\u001b[39m(\u001b[39mself\u001b[39m, line):\n\u001b[0;32m   <a href='file:///c%3A/Users/dturc/source/repos/Denactive/TML/venv/lib/site-packages/matplotlib/axes/_base.py?line=2302'>2303</a>\u001b[0m     \u001b[39m\"\"\"\u001b[39;00m\n\u001b[0;32m   <a href='file:///c%3A/Users/dturc/source/repos/Denactive/TML/venv/lib/site-packages/matplotlib/axes/_base.py?line=2303'>2304</a>\u001b[0m \u001b[39m    Figures out the data limit of the given line, updating self.dataLim.\u001b[39;00m\n\u001b[0;32m   <a href='file:///c%3A/Users/dturc/source/repos/Denactive/TML/venv/lib/site-packages/matplotlib/axes/_base.py?line=2304'>2305</a>\u001b[0m \u001b[39m    \"\"\"\u001b[39;00m\n\u001b[1;32m-> <a href='file:///c%3A/Users/dturc/source/repos/Denactive/TML/venv/lib/site-packages/matplotlib/axes/_base.py?line=2305'>2306</a>\u001b[0m     path \u001b[39m=\u001b[39m line\u001b[39m.\u001b[39;49mget_path()\n\u001b[0;32m   <a href='file:///c%3A/Users/dturc/source/repos/Denactive/TML/venv/lib/site-packages/matplotlib/axes/_base.py?line=2306'>2307</a>\u001b[0m     \u001b[39mif\u001b[39;00m path\u001b[39m.\u001b[39mvertices\u001b[39m.\u001b[39msize \u001b[39m==\u001b[39m \u001b[39m0\u001b[39m:\n\u001b[0;32m   <a href='file:///c%3A/Users/dturc/source/repos/Denactive/TML/venv/lib/site-packages/matplotlib/axes/_base.py?line=2307'>2308</a>\u001b[0m         \u001b[39mreturn\u001b[39;00m\n",
      "File \u001b[1;32mc:\\Users\\dturc\\source\\repos\\Denactive\\TML\\venv\\lib\\site-packages\\matplotlib\\lines.py:999\u001b[0m, in \u001b[0;36mLine2D.get_path\u001b[1;34m(self)\u001b[0m\n\u001b[0;32m    <a href='file:///c%3A/Users/dturc/source/repos/Denactive/TML/venv/lib/site-packages/matplotlib/lines.py?line=996'>997</a>\u001b[0m \u001b[39m\"\"\"Return the `~matplotlib.path.Path` associated with this line.\"\"\"\u001b[39;00m\n\u001b[0;32m    <a href='file:///c%3A/Users/dturc/source/repos/Denactive/TML/venv/lib/site-packages/matplotlib/lines.py?line=997'>998</a>\u001b[0m \u001b[39mif\u001b[39;00m \u001b[39mself\u001b[39m\u001b[39m.\u001b[39m_invalidy \u001b[39mor\u001b[39;00m \u001b[39mself\u001b[39m\u001b[39m.\u001b[39m_invalidx:\n\u001b[1;32m--> <a href='file:///c%3A/Users/dturc/source/repos/Denactive/TML/venv/lib/site-packages/matplotlib/lines.py?line=998'>999</a>\u001b[0m     \u001b[39mself\u001b[39;49m\u001b[39m.\u001b[39;49mrecache()\n\u001b[0;32m   <a href='file:///c%3A/Users/dturc/source/repos/Denactive/TML/venv/lib/site-packages/matplotlib/lines.py?line=999'>1000</a>\u001b[0m \u001b[39mreturn\u001b[39;00m \u001b[39mself\u001b[39m\u001b[39m.\u001b[39m_path\n",
      "File \u001b[1;32mc:\\Users\\dturc\\source\\repos\\Denactive\\TML\\venv\\lib\\site-packages\\matplotlib\\lines.py:652\u001b[0m, in \u001b[0;36mLine2D.recache\u001b[1;34m(self, always)\u001b[0m\n\u001b[0;32m    <a href='file:///c%3A/Users/dturc/source/repos/Denactive/TML/venv/lib/site-packages/matplotlib/lines.py?line=649'>650</a>\u001b[0m \u001b[39mif\u001b[39;00m always \u001b[39mor\u001b[39;00m \u001b[39mself\u001b[39m\u001b[39m.\u001b[39m_invalidx:\n\u001b[0;32m    <a href='file:///c%3A/Users/dturc/source/repos/Denactive/TML/venv/lib/site-packages/matplotlib/lines.py?line=650'>651</a>\u001b[0m     xconv \u001b[39m=\u001b[39m \u001b[39mself\u001b[39m\u001b[39m.\u001b[39mconvert_xunits(\u001b[39mself\u001b[39m\u001b[39m.\u001b[39m_xorig)\n\u001b[1;32m--> <a href='file:///c%3A/Users/dturc/source/repos/Denactive/TML/venv/lib/site-packages/matplotlib/lines.py?line=651'>652</a>\u001b[0m     x \u001b[39m=\u001b[39m _to_unmasked_float_array(xconv)\u001b[39m.\u001b[39mravel()\n\u001b[0;32m    <a href='file:///c%3A/Users/dturc/source/repos/Denactive/TML/venv/lib/site-packages/matplotlib/lines.py?line=652'>653</a>\u001b[0m \u001b[39melse\u001b[39;00m:\n\u001b[0;32m    <a href='file:///c%3A/Users/dturc/source/repos/Denactive/TML/venv/lib/site-packages/matplotlib/lines.py?line=653'>654</a>\u001b[0m     x \u001b[39m=\u001b[39m \u001b[39mself\u001b[39m\u001b[39m.\u001b[39m_x\n",
      "File \u001b[1;32mc:\\Users\\dturc\\source\\repos\\Denactive\\TML\\venv\\lib\\site-packages\\matplotlib\\cbook\\__init__.py:1298\u001b[0m, in \u001b[0;36m_to_unmasked_float_array\u001b[1;34m(x)\u001b[0m\n\u001b[0;32m   <a href='file:///c%3A/Users/dturc/source/repos/Denactive/TML/venv/lib/site-packages/matplotlib/cbook/__init__.py?line=1295'>1296</a>\u001b[0m     \u001b[39mreturn\u001b[39;00m np\u001b[39m.\u001b[39mma\u001b[39m.\u001b[39masarray(x, \u001b[39mfloat\u001b[39m)\u001b[39m.\u001b[39mfilled(np\u001b[39m.\u001b[39mnan)\n\u001b[0;32m   <a href='file:///c%3A/Users/dturc/source/repos/Denactive/TML/venv/lib/site-packages/matplotlib/cbook/__init__.py?line=1296'>1297</a>\u001b[0m \u001b[39melse\u001b[39;00m:\n\u001b[1;32m-> <a href='file:///c%3A/Users/dturc/source/repos/Denactive/TML/venv/lib/site-packages/matplotlib/cbook/__init__.py?line=1297'>1298</a>\u001b[0m     \u001b[39mreturn\u001b[39;00m np\u001b[39m.\u001b[39;49masarray(x, \u001b[39mfloat\u001b[39;49m)\n",
      "\u001b[1;31mTypeError\u001b[0m: float() argument must be a string or a number, not 'dict'"
     ]
    },
    {
     "data": {
      "image/png": "[encoded data removed]",
      "text/plain": [
       "<Figure size 432x288 with 1 Axes>"
      ]
     },
     "metadata": {},
     "output_type": "display_data"
    }
   ],
   "source": [
    "plot_validation_curve(KNeighborsRegressor(n_neighbors=1), 'knn', X_train, Y_train, 'n_neighbors', tuned_surroundings_5, 20, \"neg_mean_squared_error\")"
   ]
  }
 ],
 "metadata": {
  "interpreter": {
   "hash": "48eacecaba2d5f5bdd55fbd8ebf2f14d3704b7f0d90ff67d7c4ce95272608e16"
  },
  "kernelspec": {
   "display_name": "Python 3.9.4 ('venv': venv)",
   "language": "python",
   "name": "python3"
  },
  "language_info": {
   "codemirror_mode": {
    "name": "ipython",
    "version": 3
   },
   "file_extension": ".py",
   "mimetype": "text/x-python",
   "name": "python",
   "nbconvert_exporter": "python",
   "pygments_lexer": "ipython3",
   "version": "3.9.4"
  },
  "orig_nbformat": 4
 },
 "nbformat": 4,
 "nbformat_minor": 2
}
