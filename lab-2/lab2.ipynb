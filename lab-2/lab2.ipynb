{
 "cells": [
  {
   "cell_type": "code",
   "execution_count": 1,
   "metadata": {},
   "outputs": [
    {
     "name": "stdout",
     "output_type": "stream",
     "text": [
      "размер: (6482, 15)\n",
      "\n",
      "колонки:\n",
      " university                 object\n",
      "year                        int64\n",
      "rank_display               object\n",
      "score                     float64\n",
      "link                       object\n",
      "country                    object\n",
      "city                       object\n",
      "region                     object\n",
      "logo                       object\n",
      "type                       object\n",
      "research_output            object\n",
      "student_faculty_ratio     float64\n",
      "international_students     object\n",
      "size                       object\n",
      "faculty_count              object\n",
      "dtype: object\n"
     ]
    }
   ],
   "source": [
    "import numpy as np\n",
    "import pandas as pd\n",
    "import seaborn as sns\n",
    "import matplotlib.pyplot as plt\n",
    "%matplotlib inline \n",
    "sns.set(style=\"ticks\")\n",
    "\n",
    "# Открою датасет\n",
    "data = pd.read_csv('qs-world-university-rankings-2017-to-2022-V2.csv', sep=\",\")\n",
    "# характеристики\n",
    "print(\"размер:\", data.shape)\n",
    "print(\"\\nколонки:\\n\", data.dtypes)\n"
   ]
  },
  {
   "cell_type": "code",
   "execution_count": 2,
   "metadata": {},
   "outputs": [
    {
     "name": "stdout",
     "output_type": "stream",
     "text": [
      "\n",
      "Пропущенные значения, %:\n",
      "rank_display                  68          1.049%\tobject\n",
      "score                        3662        56.495%\tfloat64\n",
      "city                         178          2.746%\tobject\n",
      "type                          12          0.185%\tobject\n",
      "research_output               2           0.031%\tobject\n",
      "student_faculty_ratio         75          1.157%\tfloat64\n",
      "international_students       164          2.530%\tobject\n",
      "size                          2           0.031%\tobject\n",
      "faculty_count                 78          1.203%\tobject\n"
     ]
    }
   ],
   "source": [
    "print(\"\\nПропущенные значения, %:\")\n",
    "for index, value in data.isnull().sum().get(lambda x: x > 0).items():\n",
    "  # print(\"%s:\\t\\t%d\\t\\t%.3f%%\" % (index, value, value*100/data.shape[0]))\n",
    "  print(\"{:25s} {: ^10} {:>10.3f}%\\t{:s}\".format(index, value, value*100/data.shape[0], str(data[index].dtype)))"
   ]
  },
  {
   "cell_type": "markdown",
   "metadata": {},
   "source": [
    "Колонки, где больше 10% пропусков следует **удалить**, чтобы **не портить** модель, но это относится к категориальным признакам. У меня таких нет.\n",
    "\n",
    "Очистка колонки score могла бы быть сделана следующим образом:"
   ]
  },
  {
   "cell_type": "code",
   "execution_count": 3,
   "metadata": {},
   "outputs": [
    {
     "name": "stdout",
     "output_type": "stream",
     "text": [
      "Очистка от строк, где score = 0:\n",
      "Было 2820 значений. Стало 2820. Было удалено 3662.\n"
     ]
    },
    {
     "data": {
      "text/plain": [
       "((6482, 15), (2820, 15))"
      ]
     },
     "execution_count": 3,
     "metadata": {},
     "output_type": "execute_result"
    }
   ],
   "source": [
    "data_no_score = data.dropna(subset=[\"score\"])\n",
    "print(\"Очистка от строк, где score = 0:\")\n",
    "print(\"Было %d значений. Стало %d. Было удалено %d.\" % (data_no_score.shape[0], data_no_score.shape[0], data.shape[0] - data_no_score.shape[0]))\n",
    "(data.shape, data_no_score.shape)"
   ]
  },
  {
   "cell_type": "markdown",
   "metadata": {},
   "source": [
    "Выведу гистограммы числовых признаков с пропусками:"
   ]
  },
  {
   "cell_type": "code",
   "execution_count": 4,
   "metadata": {},
   "outputs": [
    {
     "name": "stdout",
     "output_type": "stream",
     "text": [
      "score (пропущено 56.495%):\n"
     ]
    },
    {
     "data": {
      "image/png": "[encoded data removed]",
      "text/plain": [
       "<Figure size 432x288 with 1 Axes>"
      ]
     },
     "metadata": {},
     "output_type": "display_data"
    },
    {
     "name": "stdout",
     "output_type": "stream",
     "text": [
      "student_faculty_ratio (пропущено 1.157%):\n"
     ]
    },
    {
     "data": {
      "image/png": "[encoded data removed]",
      "text/plain": [
       "<Figure size 432x288 with 1 Axes>"
      ]
     },
     "metadata": {},
     "output_type": "display_data"
    },
    {
     "name": "stdout",
     "output_type": "stream",
     "text": [
      "Числовые признаки с пропусками: ['score', 'student_faculty_ratio']\n"
     ]
    }
   ],
   "source": [
    "num_missing_cols_list = []\n",
    "\n",
    "for index, value in data.isnull().sum().get(lambda x: x > 0).items():\n",
    "  if (str(data[index].dtype) == \"float64\" or str(data[index].dtype) == \"int64\"):\n",
    "    num_missing_cols_list.append(index)\n",
    "    print(index, \"(пропущено %2.3f%%):\" % (value/data[index].shape[0] * 100))\n",
    "    plt.hist(data[index], 50)\n",
    "    plt.xlabel(index)\n",
    "    plt.show()\n",
    "\n",
    "print(\"Числовые признаки с пропусками:\", num_missing_cols_list)"
   ]
  },
  {
   "cell_type": "markdown",
   "metadata": {},
   "source": [
    "Видно, что student_faculty_ratio содержит пропуски на участках 34-39. Восполню пропуски используя стратегию с медианным значением."
   ]
  },
  {
   "cell_type": "code",
   "execution_count": 5,
   "metadata": {},
   "outputs": [
    {
     "data": {
      "image/png": "[encoded data removed]",
      "text/plain": [
       "<Figure size 432x288 with 1 Axes>"
      ]
     },
     "metadata": {},
     "output_type": "display_data"
    },
    {
     "data": {
      "image/png": "[encoded data removed]",
      "text/plain": [
       "<Figure size 432x288 with 1 Axes>"
      ]
     },
     "metadata": {},
     "output_type": "display_data"
    }
   ],
   "source": [
    "from sklearn.impute import SimpleImputer\n",
    "from sklearn.impute import MissingIndicator\n",
    "\n",
    "SkSI = SimpleImputer(strategy=\"median\")\n",
    "\n",
    "for value in num_missing_cols_list:\n",
    "  plt.hist(SkSI.fit_transform(data[[value]]), 50)\n",
    "  plt.xlabel(value)\n",
    "  plt.show()\n"
   ]
  },
  {
   "cell_type": "markdown",
   "metadata": {},
   "source": [
    "Видно, что вторая гистограмма не изменила свой вид, что можно считать успехом. Но Заполнение 3500+ пропусков в первой таблице одинаковыми значениями приводит к аномалии.\n",
    "Конечно, я попробовал все стратегии заполнения, которые предлагает SkLearn Imputer. Тут нужны иные, вставляющие такие значения, что они распределяются равномерно.\n",
    "\n",
    "Вообще-то, **score** - это **целевой** признак, и нулевое значение для него адекватно, с той лишь поправкой, что в данном датасете оценок ниже 25 - только 0."
   ]
  },
  {
   "cell_type": "code",
   "execution_count": 6,
   "metadata": {},
   "outputs": [
    {
     "data": {
      "image/png": "[encoded data removed]",
      "text/plain": [
       "<Figure size 432x288 with 1 Axes>"
      ]
     },
     "metadata": {},
     "output_type": "display_data"
    }
   ],
   "source": [
    "for value in num_missing_cols_list:\n",
    "  if value == \"score\":\n",
    "    continue\n",
    "  data[value] = SkSI.fit_transform(data[[value]])\n",
    "  plt.hist(data[value], 50)\n",
    "  plt.xlabel(value)\n",
    "  plt.show()"
   ]
  },
  {
   "cell_type": "code",
   "execution_count": 7,
   "metadata": {},
   "outputs": [
    {
     "name": "stdout",
     "output_type": "stream",
     "text": [
      "score (пропущено 56.495%):\n"
     ]
    }
   ],
   "source": [
    "for index, value in data.isnull().sum().get(lambda x: x > 0).items():\n",
    "  if (str(data[index].dtype) == \"float64\" or str(data[index].dtype) == \"int64\"):\n",
    "    print(index, \"(пропущено %2.3f%%):\" % (value/data[index].shape[0] * 100))"
   ]
  },
  {
   "cell_type": "markdown",
   "metadata": {},
   "source": [
    "Теперь для категориальных признаков:"
   ]
  },
  {
   "cell_type": "code",
   "execution_count": 8,
   "metadata": {},
   "outputs": [
    {
     "name": "stdout",
     "output_type": "stream",
     "text": [
      "Категориальные признаки с пропусками\n",
      "|       Признак        |        пропущено         | число уникальных |\n",
      "rank_display              68              1.049%\t  518\n",
      "city                      178             2.746%\t  867\n",
      "type                      12              0.185%\t    3\n",
      "research_output           2               0.031%\t    6\n",
      "international_students    164             2.530%\t 1183\n",
      "size                      2               0.031%\t    5\n",
      "faculty_count             78              1.203%\t 1177\n"
     ]
    }
   ],
   "source": [
    "cat_missing_cols_list = []\n",
    "print(\"Категориальные признаки с пропусками\")\n",
    "print(\"|       Признак        |        пропущено         | число уникальных |\")\n",
    "\n",
    "for index, value in data.isnull().sum().get(lambda x: x > 0).items():\n",
    "  if (str(data[index].dtype) == \"object\"):\n",
    "    cat_missing_cols_list.append(index)\n",
    "    print(\"{:25s} {: <10} {:>10.3f}%\\t{:>5d}\".format(index, value, value*100/data.shape[0], len(data[index].unique())))\n"
   ]
  },
  {
   "cell_type": "markdown",
   "metadata": {},
   "source": [
    "По таблице видно, что колонки \"тип\", \"размер\" и \"результат исследования\" содержат 2, 4 и 5 значений. Еще одно значение это NAN, от которого следует избавиться."
   ]
  },
  {
   "cell_type": "code",
   "execution_count": 9,
   "metadata": {},
   "outputs": [
    {
     "name": "stdout",
     "output_type": "stream",
     "text": [
      "['Private' 'Public' nan]\n",
      "['Very High' 'Very high' 'High' 'Medium' 'Low' nan]\n",
      "['M' 'L' 'S' 'XL' nan]\n"
     ]
    }
   ],
   "source": [
    "print(data['type'].unique())\n",
    "print(data['research_output'].unique())\n",
    "print(data['size'].unique())\n"
   ]
  },
  {
   "cell_type": "markdown",
   "metadata": {},
   "source": [
    "Логично заполнить размер университета наиболее частым значением, а вот текстовая оценка должна напрямую коррелировать со значением в колонке score. Обычно, такие признаки удаляют. Значение типа целесообразно заполнить константой public, т.е. по умолчанию, считать университет доступным для всех. "
   ]
  },
  {
   "cell_type": "code",
   "execution_count": 10,
   "metadata": {},
   "outputs": [
    {
     "name": "stdout",
     "output_type": "stream",
     "text": [
      "['Private' 'Public']\n"
     ]
    }
   ],
   "source": [
    "# Импьютация константой\n",
    "cat_type_imptr = SimpleImputer(missing_values=np.nan, strategy='constant', fill_value='Public')\n",
    "data[\"type\"] = cat_type_imptr.fit_transform(data[[\"type\"]])\n",
    "print(data['type'].unique())"
   ]
  },
  {
   "cell_type": "code",
   "execution_count": 11,
   "metadata": {},
   "outputs": [
    {
     "name": "stdout",
     "output_type": "stream",
     "text": [
      "['M' 'L' 'S' 'XL']\n"
     ]
    }
   ],
   "source": [
    "# Импьютация наиболее частыми значениями\n",
    "cat_type_imptr = SimpleImputer(missing_values=np.nan, strategy='most_frequent')\n",
    "data[\"size\"] = cat_type_imptr.fit_transform(data[[\"size\"]])\n",
    "print(data['size'].unique())"
   ]
  },
  {
   "cell_type": "markdown",
   "metadata": {},
   "source": [
    "С текстовой оценкой сложнее. Для начала заменю Very high на Very High, т.к. оценка идентичная:"
   ]
  },
  {
   "cell_type": "code",
   "execution_count": 12,
   "metadata": {},
   "outputs": [
    {
     "name": "stdout",
     "output_type": "stream",
     "text": [
      "['Very High' 'Very high' 'High' 'Medium' 'Low' nan]\n",
      "['Very High' 'High' 'Medium' 'Low' nan]\n"
     ]
    }
   ],
   "source": [
    "print(data['research_output'].unique())\n",
    "data.loc[data['research_output'] == 'Very high', 'research_output'] = \"Very High\"\n",
    "print(data['research_output'].unique())"
   ]
  },
  {
   "cell_type": "markdown",
   "metadata": {},
   "source": [
    "Теперь нужно узнать, какое значение **score** считается нижней оценкой для каждой категории из списка выше, а какое верхней:"
   ]
  },
  {
   "cell_type": "code",
   "execution_count": 13,
   "metadata": {},
   "outputs": [
    {
     "name": "stdout",
     "output_type": "stream",
     "text": [
      "Категория | минимальное | максимальное\n",
      "Very High      23.5          100.0\n",
      "High           23.6           73.6\n",
      "Medium         23.5           36.0\n",
      "Low            24.3           25.2\n",
      "nan            nan             nan\n"
     ]
    }
   ],
   "source": [
    "print('Категория | минимальное | максимальное')\n",
    "for category in data['research_output'].unique():\n",
    "  this_category_row = data[data['research_output'] == category]\n",
    "  print(\"{:<15}{:<9.1f}{:10.1f}\".format(category, this_category_row['score'].min(), this_category_row['score'].max()))"
   ]
  },
  {
   "cell_type": "markdown",
   "metadata": {},
   "source": [
    "Оказывается, те строки, в которых **пропущены score**, так же не имеют словесной оценки, значит, все же строки с пропущенным score можно **удалить**, т.к. по ним никак **нельзя** обучить модель предсказывать оценку по остальным параметрам. А заполнить все константами Low - значит испортить модель.\n",
    "\n",
    "Хоть минимальная оценка для каждой категории примерно 23.5, категорию можно определеть по максимальной оценке, однако прямой корреляции между признаками нет, а значит, категориальная оценка все еще имеет смысл для анализа.\n",
    "\n",
    "Сначала удалю те строки, в которых и **score = NAN**, и **research_output = NAN**, а в оставшихся строках заменю **score = NAN** на **score = 0**:"
   ]
  },
  {
   "cell_type": "code",
   "execution_count": 14,
   "metadata": {},
   "outputs": [
    {
     "name": "stdout",
     "output_type": "stream",
     "text": [
      "Очистка от строк, где score = 0:\n",
      "Было 6482 значений. Стало 6480. Было удалено 2 (0.031%).\n"
     ]
    }
   ],
   "source": [
    "data_no_score = data.dropna(subset=[\"score\", \"research_output\"], how='all')\n",
    "print(\"Очистка от строк, где score = 0:\")\n",
    "print(\"Было %d значений. Стало %d. Было удалено %d (%2.3f%%).\" % (data.shape[0], data_no_score.shape[0], data.shape[0] - data_no_score.shape[0], (data.shape[0] - data_no_score.shape[0])/data.shape[0]*100))\n"
   ]
  },
  {
   "cell_type": "code",
   "execution_count": 15,
   "metadata": {},
   "outputs": [
    {
     "name": "stderr",
     "output_type": "stream",
     "text": [
      "C:\\Users\\dturc\\AppData\\Local\\Temp\\ipykernel_23040\\3819309333.py:2: SettingWithCopyWarning: \n",
      "A value is trying to be set on a copy of a slice from a DataFrame.\n",
      "Try using .loc[row_indexer,col_indexer] = value instead\n",
      "\n",
      "See the caveats in the documentation: https://pandas.pydata.org/pandas-docs/stable/user_guide/indexing.html#returning-a-view-versus-a-copy\n",
      "  data_no_score[\"score\"] = num_score_imptr.fit_transform(data_no_score[[\"score\"]])\n"
     ]
    },
    {
     "name": "stdout",
     "output_type": "stream",
     "text": [
      "Категория | минимальное | максимальное\n",
      "Very High      0.0           100.0\n",
      "High           0.0            73.6\n",
      "Medium         0.0            36.0\n",
      "Low            0.0            25.2\n"
     ]
    },
    {
     "data": {
      "image/png": "[encoded data removed]",
      "text/plain": [
       "<Figure size 432x288 with 1 Axes>"
      ]
     },
     "metadata": {},
     "output_type": "display_data"
    }
   ],
   "source": [
    "num_score_imptr = SimpleImputer(missing_values=np.nan, strategy='constant', fill_value=0)\n",
    "data_no_score[\"score\"] = num_score_imptr.fit_transform(data_no_score[[\"score\"]])\n",
    "\n",
    "print('Категория | минимальное | максимальное')\n",
    "for category in data_no_score['research_output'].unique():\n",
    "  this_category_row = data_no_score[data_no_score['research_output'] == category]\n",
    "  print(\"{:<15}{:<9.1f}{:10.1f}\".format(category, this_category_row['score'].min(), this_category_row['score'].max()))\n",
    "\n",
    "plt.hist(data_no_score[\"score\"], 50)\n",
    "plt.xlabel(\"score\")\n",
    "plt.show()"
   ]
  },
  {
   "cell_type": "markdown",
   "metadata": {},
   "source": [
    "Как видно, заполнение нулями, как и иными константами, как я говорил выше, не имеет никакого смысла. Более того, еще и портит минимальные значения для другого признака. в котором мало пропусков. **Удалю строки, где score = 0**. Пропуски по полю **research_output** пропадут, что следуюет из исследования выше."
   ]
  },
  {
   "cell_type": "code",
   "execution_count": 16,
   "metadata": {},
   "outputs": [
    {
     "name": "stdout",
     "output_type": "stream",
     "text": [
      "Очистка от строк, где score = 0:\n",
      "Было 6482 значений. Стало 2820. Было удалено 3662 (56.495%).\n",
      "Категория | минимальное | максимальное\n",
      "Very High      23.5          100.0\n",
      "High           23.6           73.6\n",
      "Medium         23.5           36.0\n",
      "Low            24.3           25.2\n"
     ]
    }
   ],
   "source": [
    "data_no_score = data.dropna(subset=[\"score\"])\n",
    "print(\"Очистка от строк, где score = 0:\")\n",
    "print(\"Было %d значений. Стало %d. Было удалено %d (%2.3f%%).\" % (data.shape[0], data_no_score.shape[0], data.shape[0] - data_no_score.shape[0], (data.shape[0] - data_no_score.shape[0])/data.shape[0]*100))\n",
    "data = data_no_score\n",
    "\n",
    "print('Категория | минимальное | максимальное')\n",
    "for category in data['research_output'].unique():\n",
    "  this_category_row = data[data['research_output'] == category]\n",
    "  print(\"{:<15}{:<9.1f}{:10.1f}\".format(category, this_category_row['score'].min(), this_category_row['score'].max()))"
   ]
  },
  {
   "cell_type": "markdown",
   "metadata": {},
   "source": [
    "Остальные категориальные признаки заполню наиболее часто встречающейся категорией:"
   ]
  },
  {
   "cell_type": "code",
   "execution_count": 17,
   "metadata": {},
   "outputs": [],
   "source": [
    "cat_missing_cols_list.remove(\"research_output\")\n",
    "cat_missing_cols_list.remove(\"type\")\n",
    "cat_missing_cols_list.remove(\"size\")"
   ]
  },
  {
   "cell_type": "code",
   "execution_count": 18,
   "metadata": {},
   "outputs": [
    {
     "name": "stdout",
     "output_type": "stream",
     "text": [
      "Категориальные признаки с после заполнения пропусков\n",
      "|       Признак        |        пропущено         | число уникальных |\n"
     ]
    }
   ],
   "source": [
    "cat_imptr = SimpleImputer(missing_values=np.nan, strategy='most_frequent')\n",
    "for category in cat_missing_cols_list:\n",
    "  data[category] = cat_imptr.fit_transform(data[[category]])\n",
    "\n",
    "print(\"Категориальные признаки с после заполнения пропусков\")\n",
    "print(\"|       Признак        |        пропущено         | число уникальных |\")\n",
    "\n",
    "for index, value in data.isnull().sum().get(lambda x: x > 0).items():\n",
    "  if (str(data[index].dtype) == \"object\"):\n",
    "    print(\"{:25s} {: <10} {:>10.3f}%\\t{:>5d}\".format(index, value, value*100/data.shape[0], len(data[index].unique())))"
   ]
  },
  {
   "cell_type": "markdown",
   "metadata": {},
   "source": [
    "Видно, что пропусков в категориальных значениях больше нет.\n",
    "\n",
    "Теперь нормализую строковые признаки."
   ]
  },
  {
   "cell_type": "code",
   "execution_count": 19,
   "metadata": {},
   "outputs": [
    {
     "name": "stdout",
     "output_type": "stream",
     "text": [
      "Категория | число уникальных\n",
      "university          \t 564\n",
      "rank_display        \t 492\n",
      "link                \t 561\n",
      "country             \t  62\n",
      "city                \t 407\n",
      "region              \t   6\n",
      "logo                \t 565\n",
      "type                \t   2\n",
      "research_output     \t   4\n",
      "international_students\t 535\n",
      "size                \t   4\n",
      "faculty_count       \t 529\n",
      "Строковые признаки: ['university', 'rank_display', 'link', 'country', 'city', 'region', 'logo', 'type', 'research_output', 'international_students', 'size', 'faculty_count']\n"
     ]
    }
   ],
   "source": [
    "cat_cols = []\n",
    "\n",
    "print(\"Категория | число уникальных\")\n",
    "for index in data:\n",
    "  if (str(data[index].dtype) == \"object\"):\n",
    "    cat_cols.append(index)\n",
    "    print(\"{:20}\\t{:4d}\".format(index, len(data[index].unique())))\n",
    "\n",
    "print('Строковые признаки:', cat_cols)"
   ]
  },
  {
   "cell_type": "markdown",
   "metadata": {},
   "source": [
    "Оказывается, international_students, rank_display\tи faculty_count - на самом деле числовые признаки, причем rank_display вообще не имеет смысла для анализа, т.к. задает место университета в обшем зачете:"
   ]
  },
  {
   "cell_type": "code",
   "execution_count": 20,
   "metadata": {},
   "outputs": [
    {
     "name": "stdout",
     "output_type": "stream",
     "text": [
      "0    3,730\n",
      "1    3,879\n",
      "2    5,877\n",
      "3    7,925\n",
      "4      692\n",
      "Name: international_students, dtype: object\n",
      "0    3,065\n",
      "1    4,725\n",
      "2    4,646\n",
      "3    5,800\n",
      "4      968\n",
      "Name: faculty_count, dtype: object\n",
      "0    1\n",
      "1    2\n",
      "2    3\n",
      "3    4\n",
      "4    5\n",
      "Name: rank_display, dtype: object\n",
      "5678    494\n",
      "5679    494\n",
      "5680    494\n",
      "5681    494\n",
      "5682    494\n",
      "Name: rank_display, dtype: object\n"
     ]
    }
   ],
   "source": [
    "print(data[\"international_students\"].head())\n",
    "print(data[\"faculty_count\"].head())\n",
    "print(data[\"rank_display\"].head())\n",
    "print(data[\"rank_display\"].tail())\n"
   ]
  },
  {
   "cell_type": "markdown",
   "metadata": {},
   "source": [
    "Заменю псевдостроки на числа. Помню, что стратегия восстановления пропусков была most frequent, что в принципе не важно, т.к. пропусков довольно мало "
   ]
  },
  {
   "cell_type": "code",
   "execution_count": 21,
   "metadata": {},
   "outputs": [],
   "source": [
    "pseudo_categorial_list = ['international_students', 'faculty_count', 'rank_display']\n",
    "for category in pseudo_categorial_list:\n",
    "  cat_cols.remove(category)"
   ]
  },
  {
   "cell_type": "code",
   "execution_count": 22,
   "metadata": {},
   "outputs": [
    {
     "name": "stdout",
     "output_type": "stream",
     "text": [
      "\n",
      " university                 object\n",
      "year                        int64\n",
      "rank_display                int64\n",
      "score                     float64\n",
      "link                       object\n",
      "country                    object\n",
      "city                       object\n",
      "region                     object\n",
      "logo                       object\n",
      "type                       object\n",
      "research_output            object\n",
      "student_faculty_ratio     float64\n",
      "international_students      int64\n",
      "size                       object\n",
      "faculty_count               int64\n",
      "dtype: object\n"
     ]
    },
    {
     "name": "stderr",
     "output_type": "stream",
     "text": [
      "C:\\Users\\dturc\\AppData\\Local\\Temp\\ipykernel_23040\\1339140512.py:2: FutureWarning: The default value of regex will change from True to False in a future version.\n",
      "  data[category] = pd.to_numeric(data[category].str.replace('\\D', ''))\n"
     ]
    }
   ],
   "source": [
    "for category in pseudo_categorial_list:\n",
    "  data[category] = pd.to_numeric(data[category].str.replace('\\D', ''))\n",
    "\n",
    "print('\\n', data.dtypes)"
   ]
  },
  {
   "cell_type": "markdown",
   "metadata": {},
   "source": [
    "Уникальные строковые признаки: "
   ]
  },
  {
   "cell_type": "code",
   "execution_count": 23,
   "metadata": {},
   "outputs": [
    {
     "name": "stdout",
     "output_type": "stream",
     "text": [
      "Категория | число уникальных | всего 2820\n",
      "university          \t 564\n",
      "link                \t 561\n",
      "country             \t  62\n",
      "city                \t 407\n",
      "region              \t   6\n",
      "logo                \t 565\n",
      "type                \t   2\n",
      "research_output     \t   4\n",
      "size                \t   4\n",
      "Строковые признаки: ['university', 'link', 'country', 'city', 'region', 'logo', 'type', 'research_output', 'size']\n"
     ]
    }
   ],
   "source": [
    "print(\"Категория | число уникальных | всего\", data.shape[0])\n",
    "for index in data:\n",
    "  if (str(data[index].dtype) == \"object\"):\n",
    "    print(\"{:20}\\t{:4d}\".format(index, len(data[index].unique())))\n",
    "\n",
    "print('Строковые признаки:', cat_cols)"
   ]
  },
  {
   "cell_type": "markdown",
   "metadata": {},
   "source": [
    "Уникальные числовые признаки: "
   ]
  },
  {
   "cell_type": "code",
   "execution_count": 24,
   "metadata": {},
   "outputs": [
    {
     "name": "stdout",
     "output_type": "stream",
     "text": [
      "Категория | число уникальных | всего 2820\n",
      "year                \t   6\n",
      "rank_display        \t 492\n",
      "score               \t 656\n",
      "student_faculty_ratio\t  32\n",
      "international_students\t 527\n",
      "faculty_count       \t 512\n"
     ]
    }
   ],
   "source": [
    "print(\"Категория | число уникальных | всего\", data.shape[0])\n",
    "for index in data:\n",
    "  if (str(data[index].dtype) == \"float64\" or str(data[index].dtype) == \"int64\"):\n",
    "    print(\"{:20}\\t{:4d}\".format(index, len(data[index].unique())))"
   ]
  },
  {
   "cell_type": "markdown",
   "metadata": {},
   "source": [
    "Удалю бессмысленные категориальные признаки: логотип и ссылки, связанные напрямую с университетом. Также ясно, что город, страна, регион коррелируют между собой, но могут быть полезны в дальнейших исследованиях.\n",
    "Удалю бессмысленные числовые признаки: rank_display:"
   ]
  },
  {
   "cell_type": "code",
   "execution_count": 34,
   "metadata": {},
   "outputs": [],
   "source": [
    "data = data.drop(columns=[\"logo\", 'link', 'rank_display'])"
   ]
  },
  {
   "cell_type": "code",
   "execution_count": 35,
   "metadata": {},
   "outputs": [
    {
     "name": "stdout",
     "output_type": "stream",
     "text": [
      "university                 object\n",
      "year                        int64\n",
      "score                     float64\n",
      "country                    object\n",
      "city                       object\n",
      "region                     object\n",
      "type                       object\n",
      "research_output            object\n",
      "student_faculty_ratio     float64\n",
      "international_students      int64\n",
      "size                       object\n",
      "faculty_count               int64\n",
      "dtype: object\n",
      "(2820, 12)\n"
     ]
    }
   ],
   "source": [
    "print(data.dtypes)\n",
    "print(data.shape)"
   ]
  },
  {
   "cell_type": "markdown",
   "metadata": {},
   "source": [
    "Сохраню в таблицу очищенный датасет. Он пригодится в дальнейших работах."
   ]
  },
  {
   "cell_type": "code",
   "execution_count": 36,
   "metadata": {},
   "outputs": [],
   "source": [
    "data.to_csv('university-rankings-cleared.csv', index=False)"
   ]
  },
  {
   "cell_type": "code",
   "execution_count": 25,
   "metadata": {},
   "outputs": [
    {
     "ename": "NameError",
     "evalue": "name 'dat' is not defined",
     "output_type": "error",
     "traceback": [
      "\u001b[1;31m---------------------------------------------------------------------------\u001b[0m",
      "\u001b[1;31mNameError\u001b[0m                                 Traceback (most recent call last)",
      "\u001b[1;32mc:\\Users\\dturc\\source\\repos\\Denactive\\TML\\lab-2\\lab2.ipynb Cell 40'\u001b[0m in \u001b[0;36m<module>\u001b[1;34m\u001b[0m\n\u001b[0;32m      <a href='vscode-notebook-cell:/c%3A/Users/dturc/source/repos/Denactive/TML/lab-2/lab2.ipynb#ch0000039?line=0'>1</a>\u001b[0m \u001b[39mfrom\u001b[39;00m \u001b[39msklearn\u001b[39;00m\u001b[39m.\u001b[39;00m\u001b[39mpreprocessing\u001b[39;00m \u001b[39mimport\u001b[39;00m LabelEncoder\n\u001b[0;32m      <a href='vscode-notebook-cell:/c%3A/Users/dturc/source/repos/Denactive/TML/lab-2/lab2.ipynb#ch0000039?line=1'>2</a>\u001b[0m le \u001b[39m=\u001b[39m LabelEncoder()\n\u001b[1;32m----> <a href='vscode-notebook-cell:/c%3A/Users/dturc/source/repos/Denactive/TML/lab-2/lab2.ipynb#ch0000039?line=2'>3</a>\u001b[0m data \u001b[39m=\u001b[39m le\u001b[39m.\u001b[39mfit_transform(dat[\u001b[39m'\u001b[39m\u001b[39mc1\u001b[39m\u001b[39m'\u001b[39m])\n",
      "\u001b[1;31mNameError\u001b[0m: name 'dat' is not defined"
     ]
    }
   ],
   "source": [
    "from sklearn.preprocessing import LabelEncoder\n",
    "le = LabelEncoder()\n",
    "data = le.fit_transform(dat['c1'])"
   ]
  }
 ],
 "metadata": {
  "interpreter": {
   "hash": "48eacecaba2d5f5bdd55fbd8ebf2f14d3704b7f0d90ff67d7c4ce95272608e16"
  },
  "kernelspec": {
   "display_name": "Python 3.9.4 ('venv': venv)",
   "language": "python",
   "name": "python3"
  },
  "language_info": {
   "codemirror_mode": {
    "name": "ipython",
    "version": 3
   },
   "file_extension": ".py",
   "mimetype": "text/x-python",
   "name": "python",
   "nbconvert_exporter": "python",
   "pygments_lexer": "ipython3",
   "version": "3.9.4"
  },
  "orig_nbformat": 4
 },
 "nbformat": 4,
 "nbformat_minor": 2
}
